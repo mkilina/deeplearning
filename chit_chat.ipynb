{
  "nbformat": 4,
  "nbformat_minor": 0,
  "metadata": {
    "colab": {
      "name": "chit_chat.ipynb",
      "provenance": [],
      "collapsed_sections": [],
      "mount_file_id": "1-RahEKu-c4GXXNZ4yDBcWW-qR2l7Sfin",
      "authorship_tag": "ABX9TyPTKzd/d89D72Y8C3Ndr7G6",
      "include_colab_link": true
    },
    "kernelspec": {
      "name": "python3",
      "display_name": "Python 3"
    },
    "widgets": {
      "application/vnd.jupyter.widget-state+json": {
        "a435516fd18049cb94d5b78a10a001a2": {
          "model_module": "@jupyter-widgets/controls",
          "model_name": "HBoxModel",
          "state": {
            "_view_name": "HBoxView",
            "_dom_classes": [],
            "_model_name": "HBoxModel",
            "_view_module": "@jupyter-widgets/controls",
            "_model_module_version": "1.5.0",
            "_view_count": null,
            "_view_module_version": "1.5.0",
            "box_style": "",
            "layout": "IPY_MODEL_af3c9002a8254a0dbbca41bb786f87b4",
            "_model_module": "@jupyter-widgets/controls",
            "children": [
              "IPY_MODEL_c01ca563c50d4077bb78a513fece64f5",
              "IPY_MODEL_ec36cab621c34ef4beff9ce03150dd2c"
            ]
          }
        },
        "af3c9002a8254a0dbbca41bb786f87b4": {
          "model_module": "@jupyter-widgets/base",
          "model_name": "LayoutModel",
          "state": {
            "_view_name": "LayoutView",
            "grid_template_rows": null,
            "right": null,
            "justify_content": null,
            "_view_module": "@jupyter-widgets/base",
            "overflow": null,
            "_model_module_version": "1.2.0",
            "_view_count": null,
            "flex_flow": null,
            "width": null,
            "min_width": null,
            "border": null,
            "align_items": null,
            "bottom": null,
            "_model_module": "@jupyter-widgets/base",
            "top": null,
            "grid_column": null,
            "overflow_y": null,
            "overflow_x": null,
            "grid_auto_flow": null,
            "grid_area": null,
            "grid_template_columns": null,
            "flex": null,
            "_model_name": "LayoutModel",
            "justify_items": null,
            "grid_row": null,
            "max_height": null,
            "align_content": null,
            "visibility": null,
            "align_self": null,
            "height": null,
            "min_height": null,
            "padding": null,
            "grid_auto_rows": null,
            "grid_gap": null,
            "max_width": null,
            "order": null,
            "_view_module_version": "1.2.0",
            "grid_template_areas": null,
            "object_position": null,
            "object_fit": null,
            "grid_auto_columns": null,
            "margin": null,
            "display": null,
            "left": null
          }
        },
        "c01ca563c50d4077bb78a513fece64f5": {
          "model_module": "@jupyter-widgets/controls",
          "model_name": "FloatProgressModel",
          "state": {
            "_view_name": "ProgressView",
            "style": "IPY_MODEL_de2b8caf6e9343e9ba28de5f7ff08248",
            "_dom_classes": [],
            "description": "100%",
            "_model_name": "FloatProgressModel",
            "bar_style": "success",
            "max": 507,
            "_view_module": "@jupyter-widgets/controls",
            "_model_module_version": "1.5.0",
            "value": 507,
            "_view_count": null,
            "_view_module_version": "1.5.0",
            "orientation": "horizontal",
            "min": 0,
            "description_tooltip": null,
            "_model_module": "@jupyter-widgets/controls",
            "layout": "IPY_MODEL_5c0e0b4b2c414879a9b447d0f8bab45e"
          }
        },
        "ec36cab621c34ef4beff9ce03150dd2c": {
          "model_module": "@jupyter-widgets/controls",
          "model_name": "HTMLModel",
          "state": {
            "_view_name": "HTMLView",
            "style": "IPY_MODEL_320322eba4314eb4bbd6793bb61fb408",
            "_dom_classes": [],
            "description": "",
            "_model_name": "HTMLModel",
            "placeholder": "​",
            "_view_module": "@jupyter-widgets/controls",
            "_model_module_version": "1.5.0",
            "value": " 507/507 [59:14&lt;00:00,  7.01s/it]",
            "_view_count": null,
            "_view_module_version": "1.5.0",
            "description_tooltip": null,
            "_model_module": "@jupyter-widgets/controls",
            "layout": "IPY_MODEL_a950698b39b74972821757b44820dcfc"
          }
        },
        "de2b8caf6e9343e9ba28de5f7ff08248": {
          "model_module": "@jupyter-widgets/controls",
          "model_name": "ProgressStyleModel",
          "state": {
            "_view_name": "StyleView",
            "_model_name": "ProgressStyleModel",
            "description_width": "initial",
            "_view_module": "@jupyter-widgets/base",
            "_model_module_version": "1.5.0",
            "_view_count": null,
            "_view_module_version": "1.2.0",
            "bar_color": null,
            "_model_module": "@jupyter-widgets/controls"
          }
        },
        "5c0e0b4b2c414879a9b447d0f8bab45e": {
          "model_module": "@jupyter-widgets/base",
          "model_name": "LayoutModel",
          "state": {
            "_view_name": "LayoutView",
            "grid_template_rows": null,
            "right": null,
            "justify_content": null,
            "_view_module": "@jupyter-widgets/base",
            "overflow": null,
            "_model_module_version": "1.2.0",
            "_view_count": null,
            "flex_flow": null,
            "width": null,
            "min_width": null,
            "border": null,
            "align_items": null,
            "bottom": null,
            "_model_module": "@jupyter-widgets/base",
            "top": null,
            "grid_column": null,
            "overflow_y": null,
            "overflow_x": null,
            "grid_auto_flow": null,
            "grid_area": null,
            "grid_template_columns": null,
            "flex": null,
            "_model_name": "LayoutModel",
            "justify_items": null,
            "grid_row": null,
            "max_height": null,
            "align_content": null,
            "visibility": null,
            "align_self": null,
            "height": null,
            "min_height": null,
            "padding": null,
            "grid_auto_rows": null,
            "grid_gap": null,
            "max_width": null,
            "order": null,
            "_view_module_version": "1.2.0",
            "grid_template_areas": null,
            "object_position": null,
            "object_fit": null,
            "grid_auto_columns": null,
            "margin": null,
            "display": null,
            "left": null
          }
        },
        "320322eba4314eb4bbd6793bb61fb408": {
          "model_module": "@jupyter-widgets/controls",
          "model_name": "DescriptionStyleModel",
          "state": {
            "_view_name": "StyleView",
            "_model_name": "DescriptionStyleModel",
            "description_width": "",
            "_view_module": "@jupyter-widgets/base",
            "_model_module_version": "1.5.0",
            "_view_count": null,
            "_view_module_version": "1.2.0",
            "_model_module": "@jupyter-widgets/controls"
          }
        },
        "a950698b39b74972821757b44820dcfc": {
          "model_module": "@jupyter-widgets/base",
          "model_name": "LayoutModel",
          "state": {
            "_view_name": "LayoutView",
            "grid_template_rows": null,
            "right": null,
            "justify_content": null,
            "_view_module": "@jupyter-widgets/base",
            "overflow": null,
            "_model_module_version": "1.2.0",
            "_view_count": null,
            "flex_flow": null,
            "width": null,
            "min_width": null,
            "border": null,
            "align_items": null,
            "bottom": null,
            "_model_module": "@jupyter-widgets/base",
            "top": null,
            "grid_column": null,
            "overflow_y": null,
            "overflow_x": null,
            "grid_auto_flow": null,
            "grid_area": null,
            "grid_template_columns": null,
            "flex": null,
            "_model_name": "LayoutModel",
            "justify_items": null,
            "grid_row": null,
            "max_height": null,
            "align_content": null,
            "visibility": null,
            "align_self": null,
            "height": null,
            "min_height": null,
            "padding": null,
            "grid_auto_rows": null,
            "grid_gap": null,
            "max_width": null,
            "order": null,
            "_view_module_version": "1.2.0",
            "grid_template_areas": null,
            "object_position": null,
            "object_fit": null,
            "grid_auto_columns": null,
            "margin": null,
            "display": null,
            "left": null
          }
        },
        "f56b02a121944acaa4f24d4ae5d1d809": {
          "model_module": "@jupyter-widgets/controls",
          "model_name": "HBoxModel",
          "state": {
            "_view_name": "HBoxView",
            "_dom_classes": [],
            "_model_name": "HBoxModel",
            "_view_module": "@jupyter-widgets/controls",
            "_model_module_version": "1.5.0",
            "_view_count": null,
            "_view_module_version": "1.5.0",
            "box_style": "",
            "layout": "IPY_MODEL_6edae1fb4a154c49a722eda49cf2bce8",
            "_model_module": "@jupyter-widgets/controls",
            "children": [
              "IPY_MODEL_ea90f907e6de46ad88c60b484fe9b642",
              "IPY_MODEL_6f0a1288adb14caa80a7a62cd7a52922"
            ]
          }
        },
        "6edae1fb4a154c49a722eda49cf2bce8": {
          "model_module": "@jupyter-widgets/base",
          "model_name": "LayoutModel",
          "state": {
            "_view_name": "LayoutView",
            "grid_template_rows": null,
            "right": null,
            "justify_content": null,
            "_view_module": "@jupyter-widgets/base",
            "overflow": null,
            "_model_module_version": "1.2.0",
            "_view_count": null,
            "flex_flow": null,
            "width": null,
            "min_width": null,
            "border": null,
            "align_items": null,
            "bottom": null,
            "_model_module": "@jupyter-widgets/base",
            "top": null,
            "grid_column": null,
            "overflow_y": null,
            "overflow_x": null,
            "grid_auto_flow": null,
            "grid_area": null,
            "grid_template_columns": null,
            "flex": null,
            "_model_name": "LayoutModel",
            "justify_items": null,
            "grid_row": null,
            "max_height": null,
            "align_content": null,
            "visibility": null,
            "align_self": null,
            "height": null,
            "min_height": null,
            "padding": null,
            "grid_auto_rows": null,
            "grid_gap": null,
            "max_width": null,
            "order": null,
            "_view_module_version": "1.2.0",
            "grid_template_areas": null,
            "object_position": null,
            "object_fit": null,
            "grid_auto_columns": null,
            "margin": null,
            "display": null,
            "left": null
          }
        },
        "ea90f907e6de46ad88c60b484fe9b642": {
          "model_module": "@jupyter-widgets/controls",
          "model_name": "FloatProgressModel",
          "state": {
            "_view_name": "ProgressView",
            "style": "IPY_MODEL_83e4681e4d4b482baaeeff137124effe",
            "_dom_classes": [],
            "description": "Testing: 100%",
            "_model_name": "FloatProgressModel",
            "bar_style": "success",
            "max": 4000,
            "_view_module": "@jupyter-widgets/controls",
            "_model_module_version": "1.5.0",
            "value": 4000,
            "_view_count": null,
            "_view_module_version": "1.5.0",
            "orientation": "horizontal",
            "min": 0,
            "description_tooltip": null,
            "_model_module": "@jupyter-widgets/controls",
            "layout": "IPY_MODEL_2b352bb5252b4d9d8c4efd4aae5f3c8a"
          }
        },
        "6f0a1288adb14caa80a7a62cd7a52922": {
          "model_module": "@jupyter-widgets/controls",
          "model_name": "HTMLModel",
          "state": {
            "_view_name": "HTMLView",
            "style": "IPY_MODEL_1e6546a71aa844b2a01c1b4fa0cd11dd",
            "_dom_classes": [],
            "description": "",
            "_model_name": "HTMLModel",
            "placeholder": "​",
            "_view_module": "@jupyter-widgets/controls",
            "_model_module_version": "1.5.0",
            "value": " 4000/4000 [00:00&lt;00:00, 9847.97it/s]",
            "_view_count": null,
            "_view_module_version": "1.5.0",
            "description_tooltip": null,
            "_model_module": "@jupyter-widgets/controls",
            "layout": "IPY_MODEL_221e30b92a2242bdabd7d3b61fd4e10d"
          }
        },
        "83e4681e4d4b482baaeeff137124effe": {
          "model_module": "@jupyter-widgets/controls",
          "model_name": "ProgressStyleModel",
          "state": {
            "_view_name": "StyleView",
            "_model_name": "ProgressStyleModel",
            "description_width": "initial",
            "_view_module": "@jupyter-widgets/base",
            "_model_module_version": "1.5.0",
            "_view_count": null,
            "_view_module_version": "1.2.0",
            "bar_color": null,
            "_model_module": "@jupyter-widgets/controls"
          }
        },
        "2b352bb5252b4d9d8c4efd4aae5f3c8a": {
          "model_module": "@jupyter-widgets/base",
          "model_name": "LayoutModel",
          "state": {
            "_view_name": "LayoutView",
            "grid_template_rows": null,
            "right": null,
            "justify_content": null,
            "_view_module": "@jupyter-widgets/base",
            "overflow": null,
            "_model_module_version": "1.2.0",
            "_view_count": null,
            "flex_flow": null,
            "width": null,
            "min_width": null,
            "border": null,
            "align_items": null,
            "bottom": null,
            "_model_module": "@jupyter-widgets/base",
            "top": null,
            "grid_column": null,
            "overflow_y": null,
            "overflow_x": null,
            "grid_auto_flow": null,
            "grid_area": null,
            "grid_template_columns": null,
            "flex": null,
            "_model_name": "LayoutModel",
            "justify_items": null,
            "grid_row": null,
            "max_height": null,
            "align_content": null,
            "visibility": null,
            "align_self": null,
            "height": null,
            "min_height": null,
            "padding": null,
            "grid_auto_rows": null,
            "grid_gap": null,
            "max_width": null,
            "order": null,
            "_view_module_version": "1.2.0",
            "grid_template_areas": null,
            "object_position": null,
            "object_fit": null,
            "grid_auto_columns": null,
            "margin": null,
            "display": null,
            "left": null
          }
        },
        "1e6546a71aa844b2a01c1b4fa0cd11dd": {
          "model_module": "@jupyter-widgets/controls",
          "model_name": "DescriptionStyleModel",
          "state": {
            "_view_name": "StyleView",
            "_model_name": "DescriptionStyleModel",
            "description_width": "",
            "_view_module": "@jupyter-widgets/base",
            "_model_module_version": "1.5.0",
            "_view_count": null,
            "_view_module_version": "1.2.0",
            "_model_module": "@jupyter-widgets/controls"
          }
        },
        "221e30b92a2242bdabd7d3b61fd4e10d": {
          "model_module": "@jupyter-widgets/base",
          "model_name": "LayoutModel",
          "state": {
            "_view_name": "LayoutView",
            "grid_template_rows": null,
            "right": null,
            "justify_content": null,
            "_view_module": "@jupyter-widgets/base",
            "overflow": null,
            "_model_module_version": "1.2.0",
            "_view_count": null,
            "flex_flow": null,
            "width": null,
            "min_width": null,
            "border": null,
            "align_items": null,
            "bottom": null,
            "_model_module": "@jupyter-widgets/base",
            "top": null,
            "grid_column": null,
            "overflow_y": null,
            "overflow_x": null,
            "grid_auto_flow": null,
            "grid_area": null,
            "grid_template_columns": null,
            "flex": null,
            "_model_name": "LayoutModel",
            "justify_items": null,
            "grid_row": null,
            "max_height": null,
            "align_content": null,
            "visibility": null,
            "align_self": null,
            "height": null,
            "min_height": null,
            "padding": null,
            "grid_auto_rows": null,
            "grid_gap": null,
            "max_width": null,
            "order": null,
            "_view_module_version": "1.2.0",
            "grid_template_areas": null,
            "object_position": null,
            "object_fit": null,
            "grid_auto_columns": null,
            "margin": null,
            "display": null,
            "left": null
          }
        },
        "7d2571735738444fb6685c8200a9751a": {
          "model_module": "@jupyter-widgets/controls",
          "model_name": "HBoxModel",
          "state": {
            "_view_name": "HBoxView",
            "_dom_classes": [],
            "_model_name": "HBoxModel",
            "_view_module": "@jupyter-widgets/controls",
            "_model_module_version": "1.5.0",
            "_view_count": null,
            "_view_module_version": "1.5.0",
            "box_style": "",
            "layout": "IPY_MODEL_c4b6334bb91e420bb8da3722eda62b06",
            "_model_module": "@jupyter-widgets/controls",
            "children": [
              "IPY_MODEL_8f49854f5241423a8eea257bc01a07e7",
              "IPY_MODEL_c7f239ea7a53433a81b8166a24259055"
            ]
          }
        },
        "c4b6334bb91e420bb8da3722eda62b06": {
          "model_module": "@jupyter-widgets/base",
          "model_name": "LayoutModel",
          "state": {
            "_view_name": "LayoutView",
            "grid_template_rows": null,
            "right": null,
            "justify_content": null,
            "_view_module": "@jupyter-widgets/base",
            "overflow": null,
            "_model_module_version": "1.2.0",
            "_view_count": null,
            "flex_flow": null,
            "width": null,
            "min_width": null,
            "border": null,
            "align_items": null,
            "bottom": null,
            "_model_module": "@jupyter-widgets/base",
            "top": null,
            "grid_column": null,
            "overflow_y": null,
            "overflow_x": null,
            "grid_auto_flow": null,
            "grid_area": null,
            "grid_template_columns": null,
            "flex": null,
            "_model_name": "LayoutModel",
            "justify_items": null,
            "grid_row": null,
            "max_height": null,
            "align_content": null,
            "visibility": null,
            "align_self": null,
            "height": null,
            "min_height": null,
            "padding": null,
            "grid_auto_rows": null,
            "grid_gap": null,
            "max_width": null,
            "order": null,
            "_view_module_version": "1.2.0",
            "grid_template_areas": null,
            "object_position": null,
            "object_fit": null,
            "grid_auto_columns": null,
            "margin": null,
            "display": null,
            "left": null
          }
        },
        "8f49854f5241423a8eea257bc01a07e7": {
          "model_module": "@jupyter-widgets/controls",
          "model_name": "FloatProgressModel",
          "state": {
            "_view_name": "ProgressView",
            "style": "IPY_MODEL_c2de68de871947faa16336cf23669ad2",
            "_dom_classes": [],
            "description": "Epoch 1 of 10: 100%",
            "_model_name": "FloatProgressModel",
            "bar_style": "danger",
            "max": 500,
            "_view_module": "@jupyter-widgets/controls",
            "_model_module_version": "1.5.0",
            "value": 499,
            "_view_count": null,
            "_view_module_version": "1.5.0",
            "orientation": "horizontal",
            "min": 0,
            "description_tooltip": null,
            "_model_module": "@jupyter-widgets/controls",
            "layout": "IPY_MODEL_a9aef311cb244ff0929833b723e076fc"
          }
        },
        "c7f239ea7a53433a81b8166a24259055": {
          "model_module": "@jupyter-widgets/controls",
          "model_name": "HTMLModel",
          "state": {
            "_view_name": "HTMLView",
            "style": "IPY_MODEL_18259a7bd18549f98b2d6f093725a794",
            "_dom_classes": [],
            "description": "",
            "_model_name": "HTMLModel",
            "placeholder": "​",
            "_view_module": "@jupyter-widgets/controls",
            "_model_module_version": "1.5.0",
            "value": " 499/500 [17:16&lt;00:02,  2.08s/it, loss=0.774]",
            "_view_count": null,
            "_view_module_version": "1.5.0",
            "description_tooltip": null,
            "_model_module": "@jupyter-widgets/controls",
            "layout": "IPY_MODEL_761873106cbc4cfd95bc94ffe2a2f8c9"
          }
        },
        "c2de68de871947faa16336cf23669ad2": {
          "model_module": "@jupyter-widgets/controls",
          "model_name": "ProgressStyleModel",
          "state": {
            "_view_name": "StyleView",
            "_model_name": "ProgressStyleModel",
            "description_width": "initial",
            "_view_module": "@jupyter-widgets/base",
            "_model_module_version": "1.5.0",
            "_view_count": null,
            "_view_module_version": "1.2.0",
            "bar_color": null,
            "_model_module": "@jupyter-widgets/controls"
          }
        },
        "a9aef311cb244ff0929833b723e076fc": {
          "model_module": "@jupyter-widgets/base",
          "model_name": "LayoutModel",
          "state": {
            "_view_name": "LayoutView",
            "grid_template_rows": null,
            "right": null,
            "justify_content": null,
            "_view_module": "@jupyter-widgets/base",
            "overflow": null,
            "_model_module_version": "1.2.0",
            "_view_count": null,
            "flex_flow": null,
            "width": null,
            "min_width": null,
            "border": null,
            "align_items": null,
            "bottom": null,
            "_model_module": "@jupyter-widgets/base",
            "top": null,
            "grid_column": null,
            "overflow_y": null,
            "overflow_x": null,
            "grid_auto_flow": null,
            "grid_area": null,
            "grid_template_columns": null,
            "flex": null,
            "_model_name": "LayoutModel",
            "justify_items": null,
            "grid_row": null,
            "max_height": null,
            "align_content": null,
            "visibility": null,
            "align_self": null,
            "height": null,
            "min_height": null,
            "padding": null,
            "grid_auto_rows": null,
            "grid_gap": null,
            "max_width": null,
            "order": null,
            "_view_module_version": "1.2.0",
            "grid_template_areas": null,
            "object_position": null,
            "object_fit": null,
            "grid_auto_columns": null,
            "margin": null,
            "display": null,
            "left": null
          }
        },
        "18259a7bd18549f98b2d6f093725a794": {
          "model_module": "@jupyter-widgets/controls",
          "model_name": "DescriptionStyleModel",
          "state": {
            "_view_name": "StyleView",
            "_model_name": "DescriptionStyleModel",
            "description_width": "",
            "_view_module": "@jupyter-widgets/base",
            "_model_module_version": "1.5.0",
            "_view_count": null,
            "_view_module_version": "1.2.0",
            "_model_module": "@jupyter-widgets/controls"
          }
        },
        "761873106cbc4cfd95bc94ffe2a2f8c9": {
          "model_module": "@jupyter-widgets/base",
          "model_name": "LayoutModel",
          "state": {
            "_view_name": "LayoutView",
            "grid_template_rows": null,
            "right": null,
            "justify_content": null,
            "_view_module": "@jupyter-widgets/base",
            "overflow": null,
            "_model_module_version": "1.2.0",
            "_view_count": null,
            "flex_flow": null,
            "width": null,
            "min_width": null,
            "border": null,
            "align_items": null,
            "bottom": null,
            "_model_module": "@jupyter-widgets/base",
            "top": null,
            "grid_column": null,
            "overflow_y": null,
            "overflow_x": null,
            "grid_auto_flow": null,
            "grid_area": null,
            "grid_template_columns": null,
            "flex": null,
            "_model_name": "LayoutModel",
            "justify_items": null,
            "grid_row": null,
            "max_height": null,
            "align_content": null,
            "visibility": null,
            "align_self": null,
            "height": null,
            "min_height": null,
            "padding": null,
            "grid_auto_rows": null,
            "grid_gap": null,
            "max_width": null,
            "order": null,
            "_view_module_version": "1.2.0",
            "grid_template_areas": null,
            "object_position": null,
            "object_fit": null,
            "grid_auto_columns": null,
            "margin": null,
            "display": null,
            "left": null
          }
        },
        "460972ea6632435daf76840840c16be1": {
          "model_module": "@jupyter-widgets/controls",
          "model_name": "HBoxModel",
          "state": {
            "_view_name": "HBoxView",
            "_dom_classes": [],
            "_model_name": "HBoxModel",
            "_view_module": "@jupyter-widgets/controls",
            "_model_module_version": "1.5.0",
            "_view_count": null,
            "_view_module_version": "1.5.0",
            "box_style": "",
            "layout": "IPY_MODEL_9f698af25cbe4e97843386fcf698e321",
            "_model_module": "@jupyter-widgets/controls",
            "children": [
              "IPY_MODEL_074e220a6018488da261d6dd705a650c",
              "IPY_MODEL_37bddcd022334a3bb659744edd199960"
            ]
          }
        },
        "9f698af25cbe4e97843386fcf698e321": {
          "model_module": "@jupyter-widgets/base",
          "model_name": "LayoutModel",
          "state": {
            "_view_name": "LayoutView",
            "grid_template_rows": null,
            "right": null,
            "justify_content": null,
            "_view_module": "@jupyter-widgets/base",
            "overflow": null,
            "_model_module_version": "1.2.0",
            "_view_count": null,
            "flex_flow": null,
            "width": null,
            "min_width": null,
            "border": null,
            "align_items": null,
            "bottom": null,
            "_model_module": "@jupyter-widgets/base",
            "top": null,
            "grid_column": null,
            "overflow_y": null,
            "overflow_x": null,
            "grid_auto_flow": null,
            "grid_area": null,
            "grid_template_columns": null,
            "flex": null,
            "_model_name": "LayoutModel",
            "justify_items": null,
            "grid_row": null,
            "max_height": null,
            "align_content": null,
            "visibility": null,
            "align_self": null,
            "height": null,
            "min_height": null,
            "padding": null,
            "grid_auto_rows": null,
            "grid_gap": null,
            "max_width": null,
            "order": null,
            "_view_module_version": "1.2.0",
            "grid_template_areas": null,
            "object_position": null,
            "object_fit": null,
            "grid_auto_columns": null,
            "margin": null,
            "display": null,
            "left": null
          }
        },
        "074e220a6018488da261d6dd705a650c": {
          "model_module": "@jupyter-widgets/controls",
          "model_name": "FloatProgressModel",
          "state": {
            "_view_name": "ProgressView",
            "style": "IPY_MODEL_f932f6eafdd44bc7bd3111c95cb6b32f",
            "_dom_classes": [],
            "description": "Epoch 2 of 10: 100%",
            "_model_name": "FloatProgressModel",
            "bar_style": "success",
            "max": 500,
            "_view_module": "@jupyter-widgets/controls",
            "_model_module_version": "1.5.0",
            "value": 500,
            "_view_count": null,
            "_view_module_version": "1.5.0",
            "orientation": "horizontal",
            "min": 0,
            "description_tooltip": null,
            "_model_module": "@jupyter-widgets/controls",
            "layout": "IPY_MODEL_dc63b9aceb55447da627324e06cd9450"
          }
        },
        "37bddcd022334a3bb659744edd199960": {
          "model_module": "@jupyter-widgets/controls",
          "model_name": "HTMLModel",
          "state": {
            "_view_name": "HTMLView",
            "style": "IPY_MODEL_c78d1e3cba14472f81f4c85ea23c68ac",
            "_dom_classes": [],
            "description": "",
            "_model_name": "HTMLModel",
            "placeholder": "​",
            "_view_module": "@jupyter-widgets/controls",
            "_model_module_version": "1.5.0",
            "value": " 500/500 [13:55&lt;00:00,  1.67s/it, loss=0.774]",
            "_view_count": null,
            "_view_module_version": "1.5.0",
            "description_tooltip": null,
            "_model_module": "@jupyter-widgets/controls",
            "layout": "IPY_MODEL_33edcfcc3afc4310a7f3af151df09730"
          }
        },
        "f932f6eafdd44bc7bd3111c95cb6b32f": {
          "model_module": "@jupyter-widgets/controls",
          "model_name": "ProgressStyleModel",
          "state": {
            "_view_name": "StyleView",
            "_model_name": "ProgressStyleModel",
            "description_width": "initial",
            "_view_module": "@jupyter-widgets/base",
            "_model_module_version": "1.5.0",
            "_view_count": null,
            "_view_module_version": "1.2.0",
            "bar_color": null,
            "_model_module": "@jupyter-widgets/controls"
          }
        },
        "dc63b9aceb55447da627324e06cd9450": {
          "model_module": "@jupyter-widgets/base",
          "model_name": "LayoutModel",
          "state": {
            "_view_name": "LayoutView",
            "grid_template_rows": null,
            "right": null,
            "justify_content": null,
            "_view_module": "@jupyter-widgets/base",
            "overflow": null,
            "_model_module_version": "1.2.0",
            "_view_count": null,
            "flex_flow": null,
            "width": null,
            "min_width": null,
            "border": null,
            "align_items": null,
            "bottom": null,
            "_model_module": "@jupyter-widgets/base",
            "top": null,
            "grid_column": null,
            "overflow_y": null,
            "overflow_x": null,
            "grid_auto_flow": null,
            "grid_area": null,
            "grid_template_columns": null,
            "flex": null,
            "_model_name": "LayoutModel",
            "justify_items": null,
            "grid_row": null,
            "max_height": null,
            "align_content": null,
            "visibility": null,
            "align_self": null,
            "height": null,
            "min_height": null,
            "padding": null,
            "grid_auto_rows": null,
            "grid_gap": null,
            "max_width": null,
            "order": null,
            "_view_module_version": "1.2.0",
            "grid_template_areas": null,
            "object_position": null,
            "object_fit": null,
            "grid_auto_columns": null,
            "margin": null,
            "display": null,
            "left": null
          }
        },
        "c78d1e3cba14472f81f4c85ea23c68ac": {
          "model_module": "@jupyter-widgets/controls",
          "model_name": "DescriptionStyleModel",
          "state": {
            "_view_name": "StyleView",
            "_model_name": "DescriptionStyleModel",
            "description_width": "",
            "_view_module": "@jupyter-widgets/base",
            "_model_module_version": "1.5.0",
            "_view_count": null,
            "_view_module_version": "1.2.0",
            "_model_module": "@jupyter-widgets/controls"
          }
        },
        "33edcfcc3afc4310a7f3af151df09730": {
          "model_module": "@jupyter-widgets/base",
          "model_name": "LayoutModel",
          "state": {
            "_view_name": "LayoutView",
            "grid_template_rows": null,
            "right": null,
            "justify_content": null,
            "_view_module": "@jupyter-widgets/base",
            "overflow": null,
            "_model_module_version": "1.2.0",
            "_view_count": null,
            "flex_flow": null,
            "width": null,
            "min_width": null,
            "border": null,
            "align_items": null,
            "bottom": null,
            "_model_module": "@jupyter-widgets/base",
            "top": null,
            "grid_column": null,
            "overflow_y": null,
            "overflow_x": null,
            "grid_auto_flow": null,
            "grid_area": null,
            "grid_template_columns": null,
            "flex": null,
            "_model_name": "LayoutModel",
            "justify_items": null,
            "grid_row": null,
            "max_height": null,
            "align_content": null,
            "visibility": null,
            "align_self": null,
            "height": null,
            "min_height": null,
            "padding": null,
            "grid_auto_rows": null,
            "grid_gap": null,
            "max_width": null,
            "order": null,
            "_view_module_version": "1.2.0",
            "grid_template_areas": null,
            "object_position": null,
            "object_fit": null,
            "grid_auto_columns": null,
            "margin": null,
            "display": null,
            "left": null
          }
        },
        "967e82092a3540088dc921be21429a3a": {
          "model_module": "@jupyter-widgets/controls",
          "model_name": "HBoxModel",
          "state": {
            "_view_name": "HBoxView",
            "_dom_classes": [],
            "_model_name": "HBoxModel",
            "_view_module": "@jupyter-widgets/controls",
            "_model_module_version": "1.5.0",
            "_view_count": null,
            "_view_module_version": "1.5.0",
            "box_style": "",
            "layout": "IPY_MODEL_30db5e72f1154fbebe4e89958f043a4e",
            "_model_module": "@jupyter-widgets/controls",
            "children": [
              "IPY_MODEL_b7b809b9331e4b8cacf00ae54b3f5f2b",
              "IPY_MODEL_948c96c16302477996e7c9c14e54792b"
            ]
          }
        },
        "30db5e72f1154fbebe4e89958f043a4e": {
          "model_module": "@jupyter-widgets/base",
          "model_name": "LayoutModel",
          "state": {
            "_view_name": "LayoutView",
            "grid_template_rows": null,
            "right": null,
            "justify_content": null,
            "_view_module": "@jupyter-widgets/base",
            "overflow": null,
            "_model_module_version": "1.2.0",
            "_view_count": null,
            "flex_flow": null,
            "width": null,
            "min_width": null,
            "border": null,
            "align_items": null,
            "bottom": null,
            "_model_module": "@jupyter-widgets/base",
            "top": null,
            "grid_column": null,
            "overflow_y": null,
            "overflow_x": null,
            "grid_auto_flow": null,
            "grid_area": null,
            "grid_template_columns": null,
            "flex": null,
            "_model_name": "LayoutModel",
            "justify_items": null,
            "grid_row": null,
            "max_height": null,
            "align_content": null,
            "visibility": null,
            "align_self": null,
            "height": null,
            "min_height": null,
            "padding": null,
            "grid_auto_rows": null,
            "grid_gap": null,
            "max_width": null,
            "order": null,
            "_view_module_version": "1.2.0",
            "grid_template_areas": null,
            "object_position": null,
            "object_fit": null,
            "grid_auto_columns": null,
            "margin": null,
            "display": null,
            "left": null
          }
        },
        "b7b809b9331e4b8cacf00ae54b3f5f2b": {
          "model_module": "@jupyter-widgets/controls",
          "model_name": "FloatProgressModel",
          "state": {
            "_view_name": "ProgressView",
            "style": "IPY_MODEL_4dbc00759b934ce892b392966b52f1a2",
            "_dom_classes": [],
            "description": "Epoch 3 of 10: 100%",
            "_model_name": "FloatProgressModel",
            "bar_style": "success",
            "max": 500,
            "_view_module": "@jupyter-widgets/controls",
            "_model_module_version": "1.5.0",
            "value": 500,
            "_view_count": null,
            "_view_module_version": "1.5.0",
            "orientation": "horizontal",
            "min": 0,
            "description_tooltip": null,
            "_model_module": "@jupyter-widgets/controls",
            "layout": "IPY_MODEL_9a0d54c072a140799dad13a0f968329c"
          }
        },
        "948c96c16302477996e7c9c14e54792b": {
          "model_module": "@jupyter-widgets/controls",
          "model_name": "HTMLModel",
          "state": {
            "_view_name": "HTMLView",
            "style": "IPY_MODEL_c07bbcd21239474f904243fd54c2482a",
            "_dom_classes": [],
            "description": "",
            "_model_name": "HTMLModel",
            "placeholder": "​",
            "_view_module": "@jupyter-widgets/controls",
            "_model_module_version": "1.5.0",
            "value": " 500/500 [10:36&lt;00:00,  1.27s/it, loss=0.774]",
            "_view_count": null,
            "_view_module_version": "1.5.0",
            "description_tooltip": null,
            "_model_module": "@jupyter-widgets/controls",
            "layout": "IPY_MODEL_6451f1098747464dbf72eb3d8cd8c824"
          }
        },
        "4dbc00759b934ce892b392966b52f1a2": {
          "model_module": "@jupyter-widgets/controls",
          "model_name": "ProgressStyleModel",
          "state": {
            "_view_name": "StyleView",
            "_model_name": "ProgressStyleModel",
            "description_width": "initial",
            "_view_module": "@jupyter-widgets/base",
            "_model_module_version": "1.5.0",
            "_view_count": null,
            "_view_module_version": "1.2.0",
            "bar_color": null,
            "_model_module": "@jupyter-widgets/controls"
          }
        },
        "9a0d54c072a140799dad13a0f968329c": {
          "model_module": "@jupyter-widgets/base",
          "model_name": "LayoutModel",
          "state": {
            "_view_name": "LayoutView",
            "grid_template_rows": null,
            "right": null,
            "justify_content": null,
            "_view_module": "@jupyter-widgets/base",
            "overflow": null,
            "_model_module_version": "1.2.0",
            "_view_count": null,
            "flex_flow": null,
            "width": null,
            "min_width": null,
            "border": null,
            "align_items": null,
            "bottom": null,
            "_model_module": "@jupyter-widgets/base",
            "top": null,
            "grid_column": null,
            "overflow_y": null,
            "overflow_x": null,
            "grid_auto_flow": null,
            "grid_area": null,
            "grid_template_columns": null,
            "flex": null,
            "_model_name": "LayoutModel",
            "justify_items": null,
            "grid_row": null,
            "max_height": null,
            "align_content": null,
            "visibility": null,
            "align_self": null,
            "height": null,
            "min_height": null,
            "padding": null,
            "grid_auto_rows": null,
            "grid_gap": null,
            "max_width": null,
            "order": null,
            "_view_module_version": "1.2.0",
            "grid_template_areas": null,
            "object_position": null,
            "object_fit": null,
            "grid_auto_columns": null,
            "margin": null,
            "display": null,
            "left": null
          }
        },
        "c07bbcd21239474f904243fd54c2482a": {
          "model_module": "@jupyter-widgets/controls",
          "model_name": "DescriptionStyleModel",
          "state": {
            "_view_name": "StyleView",
            "_model_name": "DescriptionStyleModel",
            "description_width": "",
            "_view_module": "@jupyter-widgets/base",
            "_model_module_version": "1.5.0",
            "_view_count": null,
            "_view_module_version": "1.2.0",
            "_model_module": "@jupyter-widgets/controls"
          }
        },
        "6451f1098747464dbf72eb3d8cd8c824": {
          "model_module": "@jupyter-widgets/base",
          "model_name": "LayoutModel",
          "state": {
            "_view_name": "LayoutView",
            "grid_template_rows": null,
            "right": null,
            "justify_content": null,
            "_view_module": "@jupyter-widgets/base",
            "overflow": null,
            "_model_module_version": "1.2.0",
            "_view_count": null,
            "flex_flow": null,
            "width": null,
            "min_width": null,
            "border": null,
            "align_items": null,
            "bottom": null,
            "_model_module": "@jupyter-widgets/base",
            "top": null,
            "grid_column": null,
            "overflow_y": null,
            "overflow_x": null,
            "grid_auto_flow": null,
            "grid_area": null,
            "grid_template_columns": null,
            "flex": null,
            "_model_name": "LayoutModel",
            "justify_items": null,
            "grid_row": null,
            "max_height": null,
            "align_content": null,
            "visibility": null,
            "align_self": null,
            "height": null,
            "min_height": null,
            "padding": null,
            "grid_auto_rows": null,
            "grid_gap": null,
            "max_width": null,
            "order": null,
            "_view_module_version": "1.2.0",
            "grid_template_areas": null,
            "object_position": null,
            "object_fit": null,
            "grid_auto_columns": null,
            "margin": null,
            "display": null,
            "left": null
          }
        },
        "210a70a802ef4f8498a986b96e80c18d": {
          "model_module": "@jupyter-widgets/controls",
          "model_name": "HBoxModel",
          "state": {
            "_view_name": "HBoxView",
            "_dom_classes": [],
            "_model_name": "HBoxModel",
            "_view_module": "@jupyter-widgets/controls",
            "_model_module_version": "1.5.0",
            "_view_count": null,
            "_view_module_version": "1.5.0",
            "box_style": "",
            "layout": "IPY_MODEL_317914c63449411ebbc47279bfbe6f51",
            "_model_module": "@jupyter-widgets/controls",
            "children": [
              "IPY_MODEL_0d38f598afb44f7593b1d6429be1f51f",
              "IPY_MODEL_110ad30da43f468183fb4d829f8a4544"
            ]
          }
        },
        "317914c63449411ebbc47279bfbe6f51": {
          "model_module": "@jupyter-widgets/base",
          "model_name": "LayoutModel",
          "state": {
            "_view_name": "LayoutView",
            "grid_template_rows": null,
            "right": null,
            "justify_content": null,
            "_view_module": "@jupyter-widgets/base",
            "overflow": null,
            "_model_module_version": "1.2.0",
            "_view_count": null,
            "flex_flow": null,
            "width": null,
            "min_width": null,
            "border": null,
            "align_items": null,
            "bottom": null,
            "_model_module": "@jupyter-widgets/base",
            "top": null,
            "grid_column": null,
            "overflow_y": null,
            "overflow_x": null,
            "grid_auto_flow": null,
            "grid_area": null,
            "grid_template_columns": null,
            "flex": null,
            "_model_name": "LayoutModel",
            "justify_items": null,
            "grid_row": null,
            "max_height": null,
            "align_content": null,
            "visibility": null,
            "align_self": null,
            "height": null,
            "min_height": null,
            "padding": null,
            "grid_auto_rows": null,
            "grid_gap": null,
            "max_width": null,
            "order": null,
            "_view_module_version": "1.2.0",
            "grid_template_areas": null,
            "object_position": null,
            "object_fit": null,
            "grid_auto_columns": null,
            "margin": null,
            "display": null,
            "left": null
          }
        },
        "0d38f598afb44f7593b1d6429be1f51f": {
          "model_module": "@jupyter-widgets/controls",
          "model_name": "FloatProgressModel",
          "state": {
            "_view_name": "ProgressView",
            "style": "IPY_MODEL_a2d8149fd7cd4d48b5e239b2da4cd75a",
            "_dom_classes": [],
            "description": "Epoch 4 of 10: 100%",
            "_model_name": "FloatProgressModel",
            "bar_style": "success",
            "max": 500,
            "_view_module": "@jupyter-widgets/controls",
            "_model_module_version": "1.5.0",
            "value": 500,
            "_view_count": null,
            "_view_module_version": "1.5.0",
            "orientation": "horizontal",
            "min": 0,
            "description_tooltip": null,
            "_model_module": "@jupyter-widgets/controls",
            "layout": "IPY_MODEL_94ee2458b7ad47089e16f12c87c24d71"
          }
        },
        "110ad30da43f468183fb4d829f8a4544": {
          "model_module": "@jupyter-widgets/controls",
          "model_name": "HTMLModel",
          "state": {
            "_view_name": "HTMLView",
            "style": "IPY_MODEL_ccc9c778240341dd9e3de8e29d36ee8d",
            "_dom_classes": [],
            "description": "",
            "_model_name": "HTMLModel",
            "placeholder": "​",
            "_view_module": "@jupyter-widgets/controls",
            "_model_module_version": "1.5.0",
            "value": " 500/500 [07:18&lt;00:00,  1.14it/s, loss=0.774]",
            "_view_count": null,
            "_view_module_version": "1.5.0",
            "description_tooltip": null,
            "_model_module": "@jupyter-widgets/controls",
            "layout": "IPY_MODEL_5523a792156a46858f9430399ff342f8"
          }
        },
        "a2d8149fd7cd4d48b5e239b2da4cd75a": {
          "model_module": "@jupyter-widgets/controls",
          "model_name": "ProgressStyleModel",
          "state": {
            "_view_name": "StyleView",
            "_model_name": "ProgressStyleModel",
            "description_width": "initial",
            "_view_module": "@jupyter-widgets/base",
            "_model_module_version": "1.5.0",
            "_view_count": null,
            "_view_module_version": "1.2.0",
            "bar_color": null,
            "_model_module": "@jupyter-widgets/controls"
          }
        },
        "94ee2458b7ad47089e16f12c87c24d71": {
          "model_module": "@jupyter-widgets/base",
          "model_name": "LayoutModel",
          "state": {
            "_view_name": "LayoutView",
            "grid_template_rows": null,
            "right": null,
            "justify_content": null,
            "_view_module": "@jupyter-widgets/base",
            "overflow": null,
            "_model_module_version": "1.2.0",
            "_view_count": null,
            "flex_flow": null,
            "width": null,
            "min_width": null,
            "border": null,
            "align_items": null,
            "bottom": null,
            "_model_module": "@jupyter-widgets/base",
            "top": null,
            "grid_column": null,
            "overflow_y": null,
            "overflow_x": null,
            "grid_auto_flow": null,
            "grid_area": null,
            "grid_template_columns": null,
            "flex": null,
            "_model_name": "LayoutModel",
            "justify_items": null,
            "grid_row": null,
            "max_height": null,
            "align_content": null,
            "visibility": null,
            "align_self": null,
            "height": null,
            "min_height": null,
            "padding": null,
            "grid_auto_rows": null,
            "grid_gap": null,
            "max_width": null,
            "order": null,
            "_view_module_version": "1.2.0",
            "grid_template_areas": null,
            "object_position": null,
            "object_fit": null,
            "grid_auto_columns": null,
            "margin": null,
            "display": null,
            "left": null
          }
        },
        "ccc9c778240341dd9e3de8e29d36ee8d": {
          "model_module": "@jupyter-widgets/controls",
          "model_name": "DescriptionStyleModel",
          "state": {
            "_view_name": "StyleView",
            "_model_name": "DescriptionStyleModel",
            "description_width": "",
            "_view_module": "@jupyter-widgets/base",
            "_model_module_version": "1.5.0",
            "_view_count": null,
            "_view_module_version": "1.2.0",
            "_model_module": "@jupyter-widgets/controls"
          }
        },
        "5523a792156a46858f9430399ff342f8": {
          "model_module": "@jupyter-widgets/base",
          "model_name": "LayoutModel",
          "state": {
            "_view_name": "LayoutView",
            "grid_template_rows": null,
            "right": null,
            "justify_content": null,
            "_view_module": "@jupyter-widgets/base",
            "overflow": null,
            "_model_module_version": "1.2.0",
            "_view_count": null,
            "flex_flow": null,
            "width": null,
            "min_width": null,
            "border": null,
            "align_items": null,
            "bottom": null,
            "_model_module": "@jupyter-widgets/base",
            "top": null,
            "grid_column": null,
            "overflow_y": null,
            "overflow_x": null,
            "grid_auto_flow": null,
            "grid_area": null,
            "grid_template_columns": null,
            "flex": null,
            "_model_name": "LayoutModel",
            "justify_items": null,
            "grid_row": null,
            "max_height": null,
            "align_content": null,
            "visibility": null,
            "align_self": null,
            "height": null,
            "min_height": null,
            "padding": null,
            "grid_auto_rows": null,
            "grid_gap": null,
            "max_width": null,
            "order": null,
            "_view_module_version": "1.2.0",
            "grid_template_areas": null,
            "object_position": null,
            "object_fit": null,
            "grid_auto_columns": null,
            "margin": null,
            "display": null,
            "left": null
          }
        },
        "e81cf6b6c240476f97ff2d1129a703af": {
          "model_module": "@jupyter-widgets/controls",
          "model_name": "HBoxModel",
          "state": {
            "_view_name": "HBoxView",
            "_dom_classes": [],
            "_model_name": "HBoxModel",
            "_view_module": "@jupyter-widgets/controls",
            "_model_module_version": "1.5.0",
            "_view_count": null,
            "_view_module_version": "1.5.0",
            "box_style": "",
            "layout": "IPY_MODEL_c047c27f75c44aeb8d70a340011cff6b",
            "_model_module": "@jupyter-widgets/controls",
            "children": [
              "IPY_MODEL_00d18b9925dd406791ebf1ec0b63f2fe",
              "IPY_MODEL_f5355c89f790432eae6dff2a6c27daec"
            ]
          }
        },
        "c047c27f75c44aeb8d70a340011cff6b": {
          "model_module": "@jupyter-widgets/base",
          "model_name": "LayoutModel",
          "state": {
            "_view_name": "LayoutView",
            "grid_template_rows": null,
            "right": null,
            "justify_content": null,
            "_view_module": "@jupyter-widgets/base",
            "overflow": null,
            "_model_module_version": "1.2.0",
            "_view_count": null,
            "flex_flow": null,
            "width": null,
            "min_width": null,
            "border": null,
            "align_items": null,
            "bottom": null,
            "_model_module": "@jupyter-widgets/base",
            "top": null,
            "grid_column": null,
            "overflow_y": null,
            "overflow_x": null,
            "grid_auto_flow": null,
            "grid_area": null,
            "grid_template_columns": null,
            "flex": null,
            "_model_name": "LayoutModel",
            "justify_items": null,
            "grid_row": null,
            "max_height": null,
            "align_content": null,
            "visibility": null,
            "align_self": null,
            "height": null,
            "min_height": null,
            "padding": null,
            "grid_auto_rows": null,
            "grid_gap": null,
            "max_width": null,
            "order": null,
            "_view_module_version": "1.2.0",
            "grid_template_areas": null,
            "object_position": null,
            "object_fit": null,
            "grid_auto_columns": null,
            "margin": null,
            "display": null,
            "left": null
          }
        },
        "00d18b9925dd406791ebf1ec0b63f2fe": {
          "model_module": "@jupyter-widgets/controls",
          "model_name": "FloatProgressModel",
          "state": {
            "_view_name": "ProgressView",
            "style": "IPY_MODEL_a3e9e1771b3947e7b745c6a3c117a899",
            "_dom_classes": [],
            "description": "Epoch 5 of 10: 100%",
            "_model_name": "FloatProgressModel",
            "bar_style": "success",
            "max": 500,
            "_view_module": "@jupyter-widgets/controls",
            "_model_module_version": "1.5.0",
            "value": 500,
            "_view_count": null,
            "_view_module_version": "1.5.0",
            "orientation": "horizontal",
            "min": 0,
            "description_tooltip": null,
            "_model_module": "@jupyter-widgets/controls",
            "layout": "IPY_MODEL_a6e5fc6073334500adf685c4b8df8c95"
          }
        },
        "f5355c89f790432eae6dff2a6c27daec": {
          "model_module": "@jupyter-widgets/controls",
          "model_name": "HTMLModel",
          "state": {
            "_view_name": "HTMLView",
            "style": "IPY_MODEL_57dd359520a64cfd8f8f09571012c068",
            "_dom_classes": [],
            "description": "",
            "_model_name": "HTMLModel",
            "placeholder": "​",
            "_view_module": "@jupyter-widgets/controls",
            "_model_module_version": "1.5.0",
            "value": " 500/500 [03:58&lt;00:00,  2.09it/s, loss=0.774]",
            "_view_count": null,
            "_view_module_version": "1.5.0",
            "description_tooltip": null,
            "_model_module": "@jupyter-widgets/controls",
            "layout": "IPY_MODEL_0b3d4da8b0ed4fbabf9e0ab7b73428d7"
          }
        },
        "a3e9e1771b3947e7b745c6a3c117a899": {
          "model_module": "@jupyter-widgets/controls",
          "model_name": "ProgressStyleModel",
          "state": {
            "_view_name": "StyleView",
            "_model_name": "ProgressStyleModel",
            "description_width": "initial",
            "_view_module": "@jupyter-widgets/base",
            "_model_module_version": "1.5.0",
            "_view_count": null,
            "_view_module_version": "1.2.0",
            "bar_color": null,
            "_model_module": "@jupyter-widgets/controls"
          }
        },
        "a6e5fc6073334500adf685c4b8df8c95": {
          "model_module": "@jupyter-widgets/base",
          "model_name": "LayoutModel",
          "state": {
            "_view_name": "LayoutView",
            "grid_template_rows": null,
            "right": null,
            "justify_content": null,
            "_view_module": "@jupyter-widgets/base",
            "overflow": null,
            "_model_module_version": "1.2.0",
            "_view_count": null,
            "flex_flow": null,
            "width": null,
            "min_width": null,
            "border": null,
            "align_items": null,
            "bottom": null,
            "_model_module": "@jupyter-widgets/base",
            "top": null,
            "grid_column": null,
            "overflow_y": null,
            "overflow_x": null,
            "grid_auto_flow": null,
            "grid_area": null,
            "grid_template_columns": null,
            "flex": null,
            "_model_name": "LayoutModel",
            "justify_items": null,
            "grid_row": null,
            "max_height": null,
            "align_content": null,
            "visibility": null,
            "align_self": null,
            "height": null,
            "min_height": null,
            "padding": null,
            "grid_auto_rows": null,
            "grid_gap": null,
            "max_width": null,
            "order": null,
            "_view_module_version": "1.2.0",
            "grid_template_areas": null,
            "object_position": null,
            "object_fit": null,
            "grid_auto_columns": null,
            "margin": null,
            "display": null,
            "left": null
          }
        },
        "57dd359520a64cfd8f8f09571012c068": {
          "model_module": "@jupyter-widgets/controls",
          "model_name": "DescriptionStyleModel",
          "state": {
            "_view_name": "StyleView",
            "_model_name": "DescriptionStyleModel",
            "description_width": "",
            "_view_module": "@jupyter-widgets/base",
            "_model_module_version": "1.5.0",
            "_view_count": null,
            "_view_module_version": "1.2.0",
            "_model_module": "@jupyter-widgets/controls"
          }
        },
        "0b3d4da8b0ed4fbabf9e0ab7b73428d7": {
          "model_module": "@jupyter-widgets/base",
          "model_name": "LayoutModel",
          "state": {
            "_view_name": "LayoutView",
            "grid_template_rows": null,
            "right": null,
            "justify_content": null,
            "_view_module": "@jupyter-widgets/base",
            "overflow": null,
            "_model_module_version": "1.2.0",
            "_view_count": null,
            "flex_flow": null,
            "width": null,
            "min_width": null,
            "border": null,
            "align_items": null,
            "bottom": null,
            "_model_module": "@jupyter-widgets/base",
            "top": null,
            "grid_column": null,
            "overflow_y": null,
            "overflow_x": null,
            "grid_auto_flow": null,
            "grid_area": null,
            "grid_template_columns": null,
            "flex": null,
            "_model_name": "LayoutModel",
            "justify_items": null,
            "grid_row": null,
            "max_height": null,
            "align_content": null,
            "visibility": null,
            "align_self": null,
            "height": null,
            "min_height": null,
            "padding": null,
            "grid_auto_rows": null,
            "grid_gap": null,
            "max_width": null,
            "order": null,
            "_view_module_version": "1.2.0",
            "grid_template_areas": null,
            "object_position": null,
            "object_fit": null,
            "grid_auto_columns": null,
            "margin": null,
            "display": null,
            "left": null
          }
        },
        "7adf85744aaa46b29efa9120f895f750": {
          "model_module": "@jupyter-widgets/controls",
          "model_name": "HBoxModel",
          "state": {
            "_view_name": "HBoxView",
            "_dom_classes": [],
            "_model_name": "HBoxModel",
            "_view_module": "@jupyter-widgets/controls",
            "_model_module_version": "1.5.0",
            "_view_count": null,
            "_view_module_version": "1.5.0",
            "box_style": "",
            "layout": "IPY_MODEL_cf8ceb0e6f1644159a4b7d5cb55453c1",
            "_model_module": "@jupyter-widgets/controls",
            "children": [
              "IPY_MODEL_c7be04ec6b1f4f18a163a81ec793efd9",
              "IPY_MODEL_6e8fe383fc84429096168c5366f79148"
            ]
          }
        },
        "cf8ceb0e6f1644159a4b7d5cb55453c1": {
          "model_module": "@jupyter-widgets/base",
          "model_name": "LayoutModel",
          "state": {
            "_view_name": "LayoutView",
            "grid_template_rows": null,
            "right": null,
            "justify_content": null,
            "_view_module": "@jupyter-widgets/base",
            "overflow": null,
            "_model_module_version": "1.2.0",
            "_view_count": null,
            "flex_flow": null,
            "width": null,
            "min_width": null,
            "border": null,
            "align_items": null,
            "bottom": null,
            "_model_module": "@jupyter-widgets/base",
            "top": null,
            "grid_column": null,
            "overflow_y": null,
            "overflow_x": null,
            "grid_auto_flow": null,
            "grid_area": null,
            "grid_template_columns": null,
            "flex": null,
            "_model_name": "LayoutModel",
            "justify_items": null,
            "grid_row": null,
            "max_height": null,
            "align_content": null,
            "visibility": null,
            "align_self": null,
            "height": null,
            "min_height": null,
            "padding": null,
            "grid_auto_rows": null,
            "grid_gap": null,
            "max_width": null,
            "order": null,
            "_view_module_version": "1.2.0",
            "grid_template_areas": null,
            "object_position": null,
            "object_fit": null,
            "grid_auto_columns": null,
            "margin": null,
            "display": null,
            "left": null
          }
        },
        "c7be04ec6b1f4f18a163a81ec793efd9": {
          "model_module": "@jupyter-widgets/controls",
          "model_name": "FloatProgressModel",
          "state": {
            "_view_name": "ProgressView",
            "style": "IPY_MODEL_5437e5d7aa874946bc1c10145ef039ac",
            "_dom_classes": [],
            "description": "Epoch 6 of 10:  24%",
            "_model_name": "FloatProgressModel",
            "bar_style": "",
            "max": 500,
            "_view_module": "@jupyter-widgets/controls",
            "_model_module_version": "1.5.0",
            "value": 119,
            "_view_count": null,
            "_view_module_version": "1.5.0",
            "orientation": "horizontal",
            "min": 0,
            "description_tooltip": null,
            "_model_module": "@jupyter-widgets/controls",
            "layout": "IPY_MODEL_1e621c853ce949dcb9f03d713c962791"
          }
        },
        "6e8fe383fc84429096168c5366f79148": {
          "model_module": "@jupyter-widgets/controls",
          "model_name": "HTMLModel",
          "state": {
            "_view_name": "HTMLView",
            "style": "IPY_MODEL_6c2ec258a0344202b1592355c52f6336",
            "_dom_classes": [],
            "description": "",
            "_model_name": "HTMLModel",
            "placeholder": "​",
            "_view_module": "@jupyter-widgets/controls",
            "_model_module_version": "1.5.0",
            "value": " 119/500 [00:39&lt;02:06,  3.01it/s, loss=0.774]",
            "_view_count": null,
            "_view_module_version": "1.5.0",
            "description_tooltip": null,
            "_model_module": "@jupyter-widgets/controls",
            "layout": "IPY_MODEL_41da0203d9d54ddeadb80b46428bc723"
          }
        },
        "5437e5d7aa874946bc1c10145ef039ac": {
          "model_module": "@jupyter-widgets/controls",
          "model_name": "ProgressStyleModel",
          "state": {
            "_view_name": "StyleView",
            "_model_name": "ProgressStyleModel",
            "description_width": "initial",
            "_view_module": "@jupyter-widgets/base",
            "_model_module_version": "1.5.0",
            "_view_count": null,
            "_view_module_version": "1.2.0",
            "bar_color": null,
            "_model_module": "@jupyter-widgets/controls"
          }
        },
        "1e621c853ce949dcb9f03d713c962791": {
          "model_module": "@jupyter-widgets/base",
          "model_name": "LayoutModel",
          "state": {
            "_view_name": "LayoutView",
            "grid_template_rows": null,
            "right": null,
            "justify_content": null,
            "_view_module": "@jupyter-widgets/base",
            "overflow": null,
            "_model_module_version": "1.2.0",
            "_view_count": null,
            "flex_flow": null,
            "width": null,
            "min_width": null,
            "border": null,
            "align_items": null,
            "bottom": null,
            "_model_module": "@jupyter-widgets/base",
            "top": null,
            "grid_column": null,
            "overflow_y": null,
            "overflow_x": null,
            "grid_auto_flow": null,
            "grid_area": null,
            "grid_template_columns": null,
            "flex": null,
            "_model_name": "LayoutModel",
            "justify_items": null,
            "grid_row": null,
            "max_height": null,
            "align_content": null,
            "visibility": null,
            "align_self": null,
            "height": null,
            "min_height": null,
            "padding": null,
            "grid_auto_rows": null,
            "grid_gap": null,
            "max_width": null,
            "order": null,
            "_view_module_version": "1.2.0",
            "grid_template_areas": null,
            "object_position": null,
            "object_fit": null,
            "grid_auto_columns": null,
            "margin": null,
            "display": null,
            "left": null
          }
        },
        "6c2ec258a0344202b1592355c52f6336": {
          "model_module": "@jupyter-widgets/controls",
          "model_name": "DescriptionStyleModel",
          "state": {
            "_view_name": "StyleView",
            "_model_name": "DescriptionStyleModel",
            "description_width": "",
            "_view_module": "@jupyter-widgets/base",
            "_model_module_version": "1.5.0",
            "_view_count": null,
            "_view_module_version": "1.2.0",
            "_model_module": "@jupyter-widgets/controls"
          }
        },
        "41da0203d9d54ddeadb80b46428bc723": {
          "model_module": "@jupyter-widgets/base",
          "model_name": "LayoutModel",
          "state": {
            "_view_name": "LayoutView",
            "grid_template_rows": null,
            "right": null,
            "justify_content": null,
            "_view_module": "@jupyter-widgets/base",
            "overflow": null,
            "_model_module_version": "1.2.0",
            "_view_count": null,
            "flex_flow": null,
            "width": null,
            "min_width": null,
            "border": null,
            "align_items": null,
            "bottom": null,
            "_model_module": "@jupyter-widgets/base",
            "top": null,
            "grid_column": null,
            "overflow_y": null,
            "overflow_x": null,
            "grid_auto_flow": null,
            "grid_area": null,
            "grid_template_columns": null,
            "flex": null,
            "_model_name": "LayoutModel",
            "justify_items": null,
            "grid_row": null,
            "max_height": null,
            "align_content": null,
            "visibility": null,
            "align_self": null,
            "height": null,
            "min_height": null,
            "padding": null,
            "grid_auto_rows": null,
            "grid_gap": null,
            "max_width": null,
            "order": null,
            "_view_module_version": "1.2.0",
            "grid_template_areas": null,
            "object_position": null,
            "object_fit": null,
            "grid_auto_columns": null,
            "margin": null,
            "display": null,
            "left": null
          }
        }
      }
    }
  },
  "cells": [
    {
      "cell_type": "markdown",
      "metadata": {
        "id": "view-in-github",
        "colab_type": "text"
      },
      "source": [
        "<a href=\"https://colab.research.google.com/github/mkilina/deeplearning/blob/main/chit_chat.ipynb\" target=\"_parent\"><img src=\"https://colab.research.google.com/assets/colab-badge.svg\" alt=\"Open In Colab\"/></a>"
      ]
    },
    {
      "cell_type": "code",
      "metadata": {
        "colab": {
          "base_uri": "https://localhost:8080/"
        },
        "id": "2aeriU9ZHC-4",
        "outputId": "c464969e-b513-4ed2-bcea-ec0312c4cc93"
      },
      "source": [
        "!pip install youtokentome"
      ],
      "execution_count": 3,
      "outputs": [
        {
          "output_type": "stream",
          "text": [
            "Requirement already satisfied: youtokentome in /usr/local/lib/python3.6/dist-packages (1.0.6)\n",
            "Requirement already satisfied: Click>=7.0 in /usr/local/lib/python3.6/dist-packages (from youtokentome) (7.1.2)\n"
          ],
          "name": "stdout"
        }
      ]
    },
    {
      "cell_type": "code",
      "metadata": {
        "id": "eIcIdt_dSm7G"
      },
      "source": [
        "!pip3 install tensorflow_text>=2.0.0rc0"
      ],
      "execution_count": 4,
      "outputs": []
    },
    {
      "cell_type": "markdown",
      "metadata": {
        "id": "3oWx1YW0p0hO"
      },
      "source": [
        "## Try AI Hub https://colab.research.google.com/github/tensorflow/hub/blob/master/examples/colab/retrieval_with_tf_hub_universal_encoder_qa.ipynb#scrollTo=J0xTw2w3UViK"
      ]
    },
    {
      "cell_type": "code",
      "metadata": {
        "id": "o0hu02zZS7La"
      },
      "source": [
        "%%capture\r\n",
        "#@title Setup Environment\r\n",
        "# Install the latest Tensorflow version.\r\n",
        "!pip install -q tensorflow_text\r\n",
        "!pip install -q simpleneighbors[annoy]\r\n",
        "!pip install -q nltk\r\n",
        "!pip install -q tqdm"
      ],
      "execution_count": 5,
      "outputs": []
    },
    {
      "cell_type": "code",
      "metadata": {
        "id": "7Lbsup4HlhXG"
      },
      "source": [
        "import math\r\n",
        "import numpy as np\r\n",
        "import pandas as pd\r\n",
        "\r\n",
        "import random\r\n",
        "import json\r\n",
        "import torch\r\n",
        "from torch.utils.data import Dataset, DataLoader\r\n",
        "\r\n",
        "from tqdm import tqdm\r\n",
        "from functools import reduce\r\n",
        "from matplotlib import pyplot as plt\r\n",
        "\r\n",
        "#import youtokentome as yttm\r\n",
        "\r\n",
        "device = torch.device(\"cuda\" if torch.cuda.is_available() else \"cpu\")"
      ],
      "execution_count": 6,
      "outputs": []
    },
    {
      "cell_type": "code",
      "metadata": {
        "colab": {
          "base_uri": "https://localhost:8080/"
        },
        "id": "jkFSqQQzowwb",
        "outputId": "bde81ecd-eed2-472f-b251-b5c2a87939a1"
      },
      "source": [
        "import json\r\n",
        "import nltk\r\n",
        "import os\r\n",
        "import pprint\r\n",
        "import random\r\n",
        "import simpleneighbors\r\n",
        "import urllib\r\n",
        "from IPython.display import HTML, display\r\n",
        "from tqdm.notebook import tqdm\r\n",
        "\r\n",
        "import tensorflow.compat.v2 as tf\r\n",
        "import tensorflow_hub as hub\r\n",
        "from tensorflow_text import SentencepieceTokenizer\r\n",
        "\r\n",
        "nltk.download('punkt')\r\n",
        "\r\n",
        "\r\n",
        "def download_squad(url):\r\n",
        "  return json.load(urllib.request.urlopen(url))\r\n",
        "\r\n",
        "def extract_sentences_from_squad_json(squad):\r\n",
        "  all_sentences = []\r\n",
        "  for data in squad['data']:\r\n",
        "    for paragraph in data['paragraphs']:\r\n",
        "      sentences = nltk.tokenize.sent_tokenize(paragraph['context'])\r\n",
        "      all_sentences.extend(zip(sentences, [paragraph['context']] * len(sentences)))\r\n",
        "  return list(set(all_sentences)) # remove duplicates\r\n",
        "\r\n",
        "def extract_questions_from_squad_json(squad):\r\n",
        "  questions = []\r\n",
        "  for data in squad['data']:\r\n",
        "    for paragraph in data['paragraphs']:\r\n",
        "      for qas in paragraph['qas']:\r\n",
        "        if qas['answers']:\r\n",
        "          questions.append((qas['question'], qas['answers'][0]['text']))\r\n",
        "  return list(set(questions))\r\n",
        "\r\n",
        "def output_with_highlight(text, highlight):\r\n",
        "  output = \"<li> \"\r\n",
        "  i = text.find(highlight)\r\n",
        "  while True:\r\n",
        "    if i == -1:\r\n",
        "      output += text\r\n",
        "      break\r\n",
        "    output += text[0:i]\r\n",
        "    output += '<b>'+text[i:i+len(highlight)]+'</b>'\r\n",
        "    text = text[i+len(highlight):]\r\n",
        "    i = text.find(highlight)\r\n",
        "  return output + \"</li>\\n\"\r\n",
        "\r\n",
        "def display_nearest_neighbors(query_text, answer_text=None):\r\n",
        "  query_embedding = model.signatures['question_encoder'](tf.constant([query_text]))['outputs'][0]\r\n",
        "  search_results = index.nearest(query_embedding, n=num_results)\r\n",
        "\r\n",
        "  if answer_text:\r\n",
        "    result_md = '''\r\n",
        "    <p>Random Question from SQuAD:</p>\r\n",
        "    <p>&nbsp;&nbsp;<b>%s</b></p>\r\n",
        "    <p>Answer:</p>\r\n",
        "    <p>&nbsp;&nbsp;<b>%s</b></p>\r\n",
        "    ''' % (query_text , answer_text)\r\n",
        "  else:\r\n",
        "    result_md = '''\r\n",
        "    <p>Question:</p>\r\n",
        "    <p>&nbsp;&nbsp;<b>%s</b></p>\r\n",
        "    ''' % query_text\r\n",
        "\r\n",
        "  result_md += '''\r\n",
        "    <p>Retrieved sentences :\r\n",
        "    <ol>\r\n",
        "  '''\r\n",
        "\r\n",
        "  if answer_text:\r\n",
        "    for s in search_results:\r\n",
        "      result_md += output_with_highlight(s, answer_text)\r\n",
        "  else:\r\n",
        "    for s in search_results:\r\n",
        "      result_md += '<li>' + s + '</li>\\n'\r\n",
        "\r\n",
        "  result_md += \"</ol>\"\r\n",
        "  display(HTML(result_md))"
      ],
      "execution_count": 7,
      "outputs": [
        {
          "output_type": "stream",
          "text": [
            "[nltk_data] Downloading package punkt to /root/nltk_data...\n",
            "[nltk_data]   Package punkt is already up-to-date!\n"
          ],
          "name": "stdout"
        }
      ]
    },
    {
      "cell_type": "code",
      "metadata": {
        "id": "oFCjkFIPoxbP"
      },
      "source": [
        "import json\r\n",
        "questions = []\r\n",
        "answers = []\r\n",
        "\r\n",
        "# with open(\"/content/drive/MyDrive/fb2-000024-030559.jsonl\") as f:\r\n",
        "#   for line in f:\r\n",
        "#     dialogs = json.loads(line).get(\"dialogues\")\r\n",
        "#     for d in dialogs:\r\n",
        "#       answers.append(d[1:])\r\n",
        "#       questions.append(d[:len(d)-1])\r\n",
        "\r\n",
        "# with open(\"/content/drive/MyDrive/fb2-060424-074391.jsonl\") as f:\r\n",
        "#   for line in f:\r\n",
        "#     dialogs = json.loads(line).get(\"dialogues\")\r\n",
        "#     for d in dialogs:\r\n",
        "#       answers.append(d[1:])\r\n",
        "#       questions.append(d[:len(d)-1])\r\n",
        "\r\n",
        "with open(\"/content/drive/MyDrive/fb2-074392-091839.jsonl\") as f:\r\n",
        "  for line in f:\r\n",
        "    dialogs = json.loads(line).get(\"dialogues\")\r\n",
        "    for d in dialogs:\r\n",
        "      answers.append(d[1:])\r\n",
        "      questions.append(d[:len(d)-1])\r\n",
        "\r\n",
        "# with open(\"/content/drive/MyDrive/fb2-030560-060423.jsonl\") as f:\r\n",
        "#   for line in f:\r\n",
        "#     dialogs = json.loads(line).get(\"dialogues\")\r\n",
        "#     for d in dialogs:\r\n",
        "#       answers.append(d[1:])\r\n",
        "#       questions.append(d[:len(d)-1])\r\n",
        "\r\n",
        "# with open(\"/content/drive/MyDrive/lost.json\") as f: #нерусский\r\n",
        "#   for line in f:\r\n",
        "#     dialogs = json.loads(line).get(\"dialogues\")\r\n",
        "#     for d in dialogs:\r\n",
        "#       answers.append(d[1:])\r\n",
        "#       questions.append(d[:len(d)-1])\r\n",
        "\r\n",
        "#answers = reduce(lambda x,y: x+y, answers)\r\n",
        "#questions = reduce(lambda x,y: x+y, questions)"
      ],
      "execution_count": 8,
      "outputs": []
    },
    {
      "cell_type": "code",
      "metadata": {
        "colab": {
          "base_uri": "https://localhost:8080/"
        },
        "id": "qaeT_-l6fKDj",
        "outputId": "fc721ddf-d144-4b35-ae72-9ac64ca78361"
      },
      "source": [
        "%%time\r\n",
        "answers = reduce(lambda x,y: x+y, answers[:10000])"
      ],
      "execution_count": 9,
      "outputs": [
        {
          "output_type": "stream",
          "text": [
            "CPU times: user 1.86 s, sys: 56.3 ms, total: 1.92 s\n",
            "Wall time: 1.93 s\n"
          ],
          "name": "stdout"
        }
      ]
    },
    {
      "cell_type": "code",
      "metadata": {
        "id": "fNkEZbUgo2md",
        "colab": {
          "base_uri": "https://localhost:8080/"
        },
        "outputId": "d540d7c7-1b2d-49c0-bc4e-44447dcdee6f"
      },
      "source": [
        "%%time\r\n",
        "questions = reduce(lambda x,y: x+y, questions[:10000])"
      ],
      "execution_count": 10,
      "outputs": [
        {
          "output_type": "stream",
          "text": [
            "CPU times: user 2.09 s, sys: 177 ms, total: 2.27 s\n",
            "Wall time: 2.27 s\n"
          ],
          "name": "stdout"
        }
      ]
    },
    {
      "cell_type": "code",
      "metadata": {
        "id": "1hTAUVf63zD3"
      },
      "source": [
        "sentences = list(zip(questions, answers))"
      ],
      "execution_count": 11,
      "outputs": []
    },
    {
      "cell_type": "code",
      "metadata": {
        "colab": {
          "base_uri": "https://localhost:8080/"
        },
        "id": "K4n00XL0hJF5",
        "outputId": "7df60754-18bf-41f9-da6e-ef627bfdaa91"
      },
      "source": [
        "len(answers), len(questions)"
      ],
      "execution_count": 12,
      "outputs": [
        {
          "output_type": "execute_result",
          "data": {
            "text/plain": [
              "(50757, 50757)"
            ]
          },
          "metadata": {
            "tags": []
          },
          "execution_count": 12
        }
      ]
    },
    {
      "cell_type": "code",
      "metadata": {
        "id": "4CvFbtrIdBjE"
      },
      "source": [
        "module_url = \"https://tfhub.dev/google/universal-sentence-encoder-multilingual-qa/3\"\r\n",
        "model = hub.load(module_url)"
      ],
      "execution_count": 72,
      "outputs": []
    },
    {
      "cell_type": "code",
      "metadata": {
        "colab": {
          "base_uri": "https://localhost:8080/",
          "height": 82,
          "referenced_widgets": [
            "a435516fd18049cb94d5b78a10a001a2",
            "af3c9002a8254a0dbbca41bb786f87b4",
            "c01ca563c50d4077bb78a513fece64f5",
            "ec36cab621c34ef4beff9ce03150dd2c",
            "de2b8caf6e9343e9ba28de5f7ff08248",
            "5c0e0b4b2c414879a9b447d0f8bab45e",
            "320322eba4314eb4bbd6793bb61fb408",
            "a950698b39b74972821757b44820dcfc"
          ]
        },
        "id": "JHLgAUshpCNR",
        "outputId": "20f1ac82-baba-4383-c15f-0843c3902134"
      },
      "source": [
        "batch_size = 100\r\n",
        "\r\n",
        "encodings = model.signatures['response_encoder'](\r\n",
        "  input=tf.constant([sentences[0][0]]),\r\n",
        "  context=tf.constant([sentences[0][1]]))\r\n",
        "index = simpleneighbors.SimpleNeighbors(\r\n",
        "    len(encodings['outputs'][0]), metric='angular')\r\n",
        "\r\n",
        "print('Computing embeddings for %s sentences' % len(sentences))\r\n",
        "slices = zip(*(iter(sentences),) * batch_size)\r\n",
        "num_batches = int(len(sentences) / batch_size)\r\n",
        "for s in tqdm(slices, total=num_batches):\r\n",
        "  response_batch = list([r for r, c in s])\r\n",
        "  context_batch = list([r for r, c in s])\r\n",
        "  encodings = model.signatures['response_encoder'](\r\n",
        "    input=tf.constant(response_batch),\r\n",
        "    context=tf.constant(context_batch)\r\n",
        "  )\r\n",
        "  for batch_index, batch in enumerate(response_batch):\r\n",
        "    index.add_one(batch, encodings['outputs'][batch_index])\r\n",
        "\r\n",
        "index.build()"
      ],
      "execution_count": 73,
      "outputs": [
        {
          "output_type": "stream",
          "text": [
            "Computing embeddings for 50757 sentences\n"
          ],
          "name": "stdout"
        },
        {
          "output_type": "display_data",
          "data": {
            "application/vnd.jupyter.widget-view+json": {
              "model_id": "a435516fd18049cb94d5b78a10a001a2",
              "version_minor": 0,
              "version_major": 2
            },
            "text/plain": [
              "HBox(children=(FloatProgress(value=0.0, max=507.0), HTML(value='')))"
            ]
          },
          "metadata": {
            "tags": []
          }
        },
        {
          "output_type": "stream",
          "text": [
            "\n"
          ],
          "name": "stdout"
        }
      ]
    },
    {
      "cell_type": "code",
      "metadata": {
        "id": "OEnWStR5pTZx"
      },
      "source": [
        "query = random.choice(questions)"
      ],
      "execution_count": 74,
      "outputs": []
    },
    {
      "cell_type": "code",
      "metadata": {
        "colab": {
          "base_uri": "https://localhost:8080/",
          "height": 35
        },
        "id": "QbGpgsRtXwhx",
        "outputId": "bcf7918b-e6bc-4ab5-fc88-2237716734b0"
      },
      "source": [
        "query_embedding = model.signatures['question_encoder'](\r\n",
        "            tf.constant(query))\r\n",
        "query"
      ],
      "execution_count": 76,
      "outputs": [
        {
          "output_type": "execute_result",
          "data": {
            "application/vnd.google.colaboratory.intrinsic+json": {
              "type": "string"
            },
            "text/plain": [
              "'Что делать?'"
            ]
          },
          "metadata": {
            "tags": []
          },
          "execution_count": 76
        }
      ]
    },
    {
      "cell_type": "code",
      "metadata": {
        "colab": {
          "base_uri": "https://localhost:8080/",
          "height": 378
        },
        "id": "vUTsNZHYJVhj",
        "outputId": "e0188901-e60a-4ad2-c29f-a65eca515dbd"
      },
      "source": [
        "num_results = 10\r\n",
        "\r\n",
        "query = random.choice(questions)\r\n",
        "display_nearest_neighbors(query, query)"
      ],
      "execution_count": 77,
      "outputs": [
        {
          "output_type": "display_data",
          "data": {
            "text/html": [
              "\n",
              "    <p>Random Question from SQuAD:</p>\n",
              "    <p>&nbsp;&nbsp;<b>О нет. Конечно, нет. Что ж, в таком случае, я покину вас. До свидания. Удачи в написании диссертации.</b></p>\n",
              "    <p>Answer:</p>\n",
              "    <p>&nbsp;&nbsp;<b>О нет. Конечно, нет. Что ж, в таком случае, я покину вас. До свидания. Удачи в написании диссертации.</b></p>\n",
              "    \n",
              "    <p>Retrieved sentences :\n",
              "    <ol>\n",
              "  <li> Не притворяйтесь, Вам здесь гораздо лучше, чем в университете. Он сказал мне, что вы добились больших успехов в живописи.</li>\n",
              "<li> Вот что, Завтра же я выдам тебе деньги. Ну, что-то вроде отпускных или стипендии. И отправлю тебя на пару недель отдохнуть. Как ты на это дело смотришь? Отпуск с полным содержанием?</li>\n",
              "<li> Да, однако это все еще смущает меня. Когда истекает срок твоих полномочий?</li>\n",
              "<li> Ты мне только тут лекций по истории не читай, я все равно не пойму.</li>\n",
              "<li> Прекрасно! Замечательно! Когда вы, наконец, его изловите, всадите ему пулю в лоб от моего имени. Я даже не знала, что он...</li>\n",
              "<li> Домини, Ты меня жалеешь? Тебя? Я жалею себя за то, что мне придется терпеть тебя еще лет пятьдесят. Самоуверенного, нахального, привыкшего быть господином в своем греческом доме на Орлином утесе. Что это будет за жизнь!</li>\n",
              "<li> Прекратите истерику, госпожа профессор. Я же сказал, что должен уладить одно дело с господином Снегирем. А мы с ним дела еще не уладили. Подождите.</li>\n",
              "<li> Ты не просил меня любить тебя, Ты велел мне оставить мою любовь при себе. Я так и сделаю, если ты все еще хочешь этого, Поль. Я даже не останусь насовсем, но пока я тебе нужна, буду рядом.</li>\n",
              "<li> Ничего не имею против, сэр.</li>\n",
              "<li> А что сказать? Все равно идти тебе больше некуда. Давай подумаем, как меня обезопасить на случай твоего провала то что.</li>\n",
              "</ol>"
            ],
            "text/plain": [
              "<IPython.core.display.HTML object>"
            ]
          },
          "metadata": {
            "tags": []
          }
        }
      ]
    },
    {
      "cell_type": "code",
      "metadata": {
        "colab": {
          "base_uri": "https://localhost:8080/",
          "height": 178
        },
        "id": "7ZHZ5KRSEp2b",
        "outputId": "9580c73a-e50d-4b79-d084-b6e323167897"
      },
      "source": [
        "query = random.choice(questions)\r\n",
        "display_nearest_neighbors(query, query)"
      ],
      "execution_count": 1,
      "outputs": [
        {
          "output_type": "error",
          "ename": "NameError",
          "evalue": "ignored",
          "traceback": [
            "\u001b[0;31m---------------------------------------------------------------------------\u001b[0m",
            "\u001b[0;31mNameError\u001b[0m                                 Traceback (most recent call last)",
            "\u001b[0;32m<ipython-input-1-8e7746be9eb8>\u001b[0m in \u001b[0;36m<module>\u001b[0;34m()\u001b[0m\n\u001b[0;32m----> 1\u001b[0;31m \u001b[0mquery\u001b[0m \u001b[0;34m=\u001b[0m \u001b[0mrandom\u001b[0m\u001b[0;34m.\u001b[0m\u001b[0mchoice\u001b[0m\u001b[0;34m(\u001b[0m\u001b[0mquestions\u001b[0m\u001b[0;34m)\u001b[0m\u001b[0;34m\u001b[0m\u001b[0;34m\u001b[0m\u001b[0m\n\u001b[0m\u001b[1;32m      2\u001b[0m \u001b[0mdisplay_nearest_neighbors\u001b[0m\u001b[0;34m(\u001b[0m\u001b[0mquery\u001b[0m\u001b[0;34m,\u001b[0m \u001b[0mquery\u001b[0m\u001b[0;34m)\u001b[0m\u001b[0;34m\u001b[0m\u001b[0;34m\u001b[0m\u001b[0m\n",
            "\u001b[0;31mNameError\u001b[0m: name 'random' is not defined"
          ]
        }
      ]
    },
    {
      "cell_type": "code",
      "metadata": {
        "colab": {
          "base_uri": "https://localhost:8080/",
          "height": 178
        },
        "id": "mdz_ugVWErLN",
        "outputId": "4989c3ad-d7fd-4d33-af6a-bc230cc2a602"
      },
      "source": [
        "query = random.choice(questions)\r\n",
        "display_nearest_neighbors(query, query)"
      ],
      "execution_count": 2,
      "outputs": [
        {
          "output_type": "error",
          "ename": "NameError",
          "evalue": "ignored",
          "traceback": [
            "\u001b[0;31m---------------------------------------------------------------------------\u001b[0m",
            "\u001b[0;31mNameError\u001b[0m                                 Traceback (most recent call last)",
            "\u001b[0;32m<ipython-input-2-8e7746be9eb8>\u001b[0m in \u001b[0;36m<module>\u001b[0;34m()\u001b[0m\n\u001b[0;32m----> 1\u001b[0;31m \u001b[0mquery\u001b[0m \u001b[0;34m=\u001b[0m \u001b[0mrandom\u001b[0m\u001b[0;34m.\u001b[0m\u001b[0mchoice\u001b[0m\u001b[0;34m(\u001b[0m\u001b[0mquestions\u001b[0m\u001b[0;34m)\u001b[0m\u001b[0;34m\u001b[0m\u001b[0;34m\u001b[0m\u001b[0m\n\u001b[0m\u001b[1;32m      2\u001b[0m \u001b[0mdisplay_nearest_neighbors\u001b[0m\u001b[0;34m(\u001b[0m\u001b[0mquery\u001b[0m\u001b[0;34m,\u001b[0m \u001b[0mquery\u001b[0m\u001b[0;34m)\u001b[0m\u001b[0;34m\u001b[0m\u001b[0;34m\u001b[0m\u001b[0m\n",
            "\u001b[0;31mNameError\u001b[0m: name 'random' is not defined"
          ]
        }
      ]
    },
    {
      "cell_type": "markdown",
      "metadata": {
        "id": "eZsoEy9IqoFh"
      },
      "source": [
        "## Try my own model"
      ]
    },
    {
      "cell_type": "code",
      "metadata": {
        "id": "uTTgybxKKxCa"
      },
      "source": [
        "dataset = []\r\n",
        "dataset += list(zip(questions[:int(len(questions)/2)], answers[:int(len(questions)/2)]))"
      ],
      "execution_count": 12,
      "outputs": []
    },
    {
      "cell_type": "code",
      "metadata": {
        "id": "_HBeqrgDKw_v"
      },
      "source": [
        "import random\r\n",
        "sub_answers = answers[int(len(questions)/2):]\r\n",
        "random.shuffle(sub_answers)\r\n",
        "dataset += list(zip(questions[int(len(questions)/2):], sub_answers))"
      ],
      "execution_count": 13,
      "outputs": []
    },
    {
      "cell_type": "code",
      "metadata": {
        "id": "FbP5aWu7rtyE",
        "colab": {
          "base_uri": "https://localhost:8080/"
        },
        "outputId": "4491b800-00c7-4489-de07-1af95c0bff8e"
      },
      "source": [
        "dataset[26000:26005]"
      ],
      "execution_count": 14,
      "outputs": [
        {
          "output_type": "execute_result",
          "data": {
            "text/plain": [
              "[('Далеко не уедут,', 'Вы предпочитаете служить Алехандро?'),\n",
              " ('Знаешь, может, к лучшему, что ты не успел сделать и второе колесо. Одно можно считать случайностью. Что там у тебя в этой чупаге?',\n",
              "  'Что? Почему? Что случилось?'),\n",
              " ('А что в ней такое может быть? Чупаги не видел?',\n",
              "  'Марья я, из двенадцатой,'),\n",
              " ('Нет, но чем же ты... того...',\n",
              "  'Там!.. Прямо против нас… берег… островки… подводные скалы.'),\n",
              " ('Ничего я не того! Или ты что видел?',\n",
              "  'Он планирует пустить каждого вампира в городе убивать людей в этот Хэллоуин.')]"
            ]
          },
          "metadata": {
            "tags": []
          },
          "execution_count": 14
        }
      ]
    },
    {
      "cell_type": "code",
      "metadata": {
        "id": "v_Cm_yD7rtul"
      },
      "source": [
        "data = [(a, b, 1) for a, b in dataset[:int(len(questions)/2)]]"
      ],
      "execution_count": 15,
      "outputs": []
    },
    {
      "cell_type": "code",
      "metadata": {
        "id": "tgonbuHnvzGk"
      },
      "source": [
        "data += [(a, b, 0) for a, b in dataset[int(len(questions)/2):]]"
      ],
      "execution_count": 16,
      "outputs": []
    },
    {
      "cell_type": "code",
      "metadata": {
        "id": "UEfbOW_KrtsD"
      },
      "source": [
        "import pandas as pd\r\n",
        "dataset = pd.DataFrame(data)"
      ],
      "execution_count": 17,
      "outputs": []
    },
    {
      "cell_type": "code",
      "metadata": {
        "id": "tqudDj00XwaL"
      },
      "source": [
        "dataset.columns = ['question', 'answer', 'target']"
      ],
      "execution_count": 18,
      "outputs": []
    },
    {
      "cell_type": "code",
      "metadata": {
        "id": "s94XM_E8Xv79",
        "colab": {
          "base_uri": "https://localhost:8080/",
          "height": 195
        },
        "outputId": "8fa20f30-5ccd-4b60-b19a-3fe25cf63a21"
      },
      "source": [
        "import string\r\n",
        "dataset.question = dataset.question.map(lambda x: x.lower().translate(str.maketrans('', '', string.punctuation)))\r\n",
        "dataset.answer = dataset.answer.map(lambda x: x.lower().translate(str.maketrans('', '', string.punctuation)))\r\n",
        "dataset.head()"
      ],
      "execution_count": 19,
      "outputs": [
        {
          "output_type": "execute_result",
          "data": {
            "text/html": [
              "<div>\n",
              "<style scoped>\n",
              "    .dataframe tbody tr th:only-of-type {\n",
              "        vertical-align: middle;\n",
              "    }\n",
              "\n",
              "    .dataframe tbody tr th {\n",
              "        vertical-align: top;\n",
              "    }\n",
              "\n",
              "    .dataframe thead th {\n",
              "        text-align: right;\n",
              "    }\n",
              "</style>\n",
              "<table border=\"1\" class=\"dataframe\">\n",
              "  <thead>\n",
              "    <tr style=\"text-align: right;\">\n",
              "      <th></th>\n",
              "      <th>question</th>\n",
              "      <th>answer</th>\n",
              "      <th>target</th>\n",
              "    </tr>\n",
              "  </thead>\n",
              "  <tbody>\n",
              "    <tr>\n",
              "      <th>0</th>\n",
              "      <td>проныра3 подтяни хвост сейчас на нас будут гла...</td>\n",
              "      <td>так точно сэр</td>\n",
              "      <td>1</td>\n",
              "    </tr>\n",
              "    <tr>\n",
              "      <th>1</th>\n",
              "      <td>сенсоры регистрируют эскадрилью истребителей и...</td>\n",
              "      <td>сохраняйте строй разбойный эскадрон</td>\n",
              "      <td>1</td>\n",
              "    </tr>\n",
              "    <tr>\n",
              "      <th>2</th>\n",
              "      <td>сохраняйте строй разбойный эскадрон</td>\n",
              "      <td>неверные позывные сэр это мы разбойники с боль...</td>\n",
              "      <td>1</td>\n",
              "    </tr>\n",
              "    <tr>\n",
              "      <th>3</th>\n",
              "      <td>неверные позывные сэр это мы разбойники с боль...</td>\n",
              "      <td>хобби лейтенант это ты</td>\n",
              "      <td>1</td>\n",
              "    </tr>\n",
              "    <tr>\n",
              "      <th>4</th>\n",
              "      <td>хобби лейтенант это ты</td>\n",
              "      <td>вообщето</td>\n",
              "      <td>1</td>\n",
              "    </tr>\n",
              "  </tbody>\n",
              "</table>\n",
              "</div>"
            ],
            "text/plain": [
              "                                            question  ... target\n",
              "0  проныра3 подтяни хвост сейчас на нас будут гла...  ...      1\n",
              "1  сенсоры регистрируют эскадрилью истребителей и...  ...      1\n",
              "2                сохраняйте строй разбойный эскадрон  ...      1\n",
              "3  неверные позывные сэр это мы разбойники с боль...  ...      1\n",
              "4                             хобби лейтенант это ты  ...      1\n",
              "\n",
              "[5 rows x 3 columns]"
            ]
          },
          "metadata": {
            "tags": []
          },
          "execution_count": 19
        }
      ]
    },
    {
      "cell_type": "code",
      "metadata": {
        "id": "c_v7ZKzYuQVs"
      },
      "source": [
        "import youtokentome as yttm"
      ],
      "execution_count": 20,
      "outputs": []
    },
    {
      "cell_type": "code",
      "metadata": {
        "colab": {
          "base_uri": "https://localhost:8080/",
          "height": 35
        },
        "id": "WJfInhW421uB",
        "outputId": "45a22fef-07b5-4c1a-da95-c19e849e2a06"
      },
      "source": [
        "dataset.question[5]"
      ],
      "execution_count": 21,
      "outputs": [
        {
          "output_type": "execute_result",
          "data": {
            "application/vnd.google.colaboratory.intrinsic+json": {
              "type": "string"
            },
            "text/plain": [
              "'хобби не хочешь объяснить что это за чушь'"
            ]
          },
          "metadata": {
            "tags": []
          },
          "execution_count": 21
        }
      ]
    },
    {
      "cell_type": "code",
      "metadata": {
        "id": "kSTA04OJHHt5"
      },
      "source": [
        "with open('for_bpe.txt', 'w', encoding='utf-8') as f:\r\n",
        "    for idx in range(len(dataset)):\r\n",
        "      f.write(dataset.question[idx] + '\\n')\r\n",
        "        \r\n",
        "vocab_size = 30_000\r\n",
        "model_path = 'pretrained_bpe_lm.model'"
      ],
      "execution_count": 22,
      "outputs": []
    },
    {
      "cell_type": "code",
      "metadata": {
        "colab": {
          "base_uri": "https://localhost:8080/"
        },
        "id": "skzdS-jGHfu9",
        "outputId": "5fed277c-4e91-4964-db9c-b7f380749f9c"
      },
      "source": [
        "%%time\r\n",
        "yttm.BPE.train(data='for_bpe.txt', vocab_size=vocab_size, model=model_path)"
      ],
      "execution_count": 23,
      "outputs": [
        {
          "output_type": "stream",
          "text": [
            "CPU times: user 1.32 s, sys: 428 ms, total: 1.74 s\n",
            "Wall time: 1.2 s\n"
          ],
          "name": "stdout"
        },
        {
          "output_type": "execute_result",
          "data": {
            "text/plain": [
              "<youtokentome.youtokentome.BPE at 0x7f3caf41ff28>"
            ]
          },
          "metadata": {
            "tags": []
          },
          "execution_count": 23
        }
      ]
    },
    {
      "cell_type": "code",
      "metadata": {
        "id": "z2e9gqBPHk6B"
      },
      "source": [
        "tokenizer = yttm.BPE(model=model_path)"
      ],
      "execution_count": 24,
      "outputs": []
    },
    {
      "cell_type": "code",
      "metadata": {
        "colab": {
          "base_uri": "https://localhost:8080/"
        },
        "id": "RpaUDz2HN4wM",
        "outputId": "27dba9ea-5045-44a2-bcdb-aaea2bb6e433"
      },
      "source": [
        "tokenizer.encode(dataset.question[2], bos=True, eos=True, \r\n",
        "    output_type=yttm.OutputType.SUBWORD)"
      ],
      "execution_count": 25,
      "outputs": [
        {
          "output_type": "execute_result",
          "data": {
            "text/plain": [
              "['<BOS>', '▁сохра', 'няйте', '▁строй', '▁разбойный', '▁эскадрон', '<EOS>']"
            ]
          },
          "metadata": {
            "tags": []
          },
          "execution_count": 25
        }
      ]
    },
    {
      "cell_type": "code",
      "metadata": {
        "colab": {
          "base_uri": "https://localhost:8080/"
        },
        "id": "4Na_OL0NIlBl",
        "outputId": "2ee84d04-5f0c-4883-877c-f7f6d3afd784"
      },
      "source": [
        "tokenizer.encode(dataset.question[2], bos=True, eos=True)"
      ],
      "execution_count": 26,
      "outputs": [
        {
          "output_type": "execute_result",
          "data": {
            "text/plain": [
              "[2, 2540, 14976, 6544, 11662, 11748, 3]"
            ]
          },
          "metadata": {
            "tags": []
          },
          "execution_count": 26
        }
      ]
    },
    {
      "cell_type": "code",
      "metadata": {
        "id": "fKqNFOD5Cc3P"
      },
      "source": [
        "records = dataset.to_records(index=False)\r\n",
        "df = list(records)"
      ],
      "execution_count": 27,
      "outputs": []
    },
    {
      "cell_type": "code",
      "metadata": {
        "colab": {
          "base_uri": "https://localhost:8080/"
        },
        "id": "qBcruHulCcSj",
        "outputId": "c3b5f3a8-a3b1-4899-adef-3354961da193"
      },
      "source": [
        "df[:5]"
      ],
      "execution_count": 28,
      "outputs": [
        {
          "output_type": "execute_result",
          "data": {
            "text/plain": [
              "[('проныра3 подтяни хвост сейчас на нас будут глазеть', 'так точно сэр', 1),\n",
              " ('сенсоры регистрируют эскадрилью истребителей идут на сближение скорость соответствует «крестокрылам» сигнал радара позволяет предположить модификацию «инкома т65»', 'сохраняйте строй разбойный эскадрон', 1),\n",
              " ('сохраняйте строй разбойный эскадрон', 'неверные позывные сэр это мы разбойники с большой дороги но через несколько минут мы вспомним про вежливость и назовем себя красной эскадрильей чтобы избежать путаницы мы', 1),\n",
              " ('неверные позывные сэр это мы разбойники с большой дороги но через несколько минут мы вспомним про вежливость и назовем себя красной эскадрильей чтобы избежать путаницы мы', 'хобби лейтенант это ты', 1),\n",
              " ('хобби лейтенант это ты', 'вообщето', 1)]"
            ]
          },
          "metadata": {
            "tags": []
          },
          "execution_count": 28
        }
      ]
    },
    {
      "cell_type": "code",
      "metadata": {
        "id": "h4Er4TwmCpUj",
        "colab": {
          "base_uri": "https://localhost:8080/"
        },
        "outputId": "91a290c5-6422-4d0a-a30b-53503601d925"
      },
      "source": [
        "random.shuffle(df)\r\n",
        "df[:5]"
      ],
      "execution_count": 29,
      "outputs": [
        {
          "output_type": "execute_result",
          "data": {
            "text/plain": [
              "[('что совсем не с кем поиграть а куда делись подружки', 'во что поиграть нет он не хочет чтоб она стала шлюхой он водил ее в музей и объяснял что картины существуют для того чтобы в человеке вздрагивало сердце и хотелось чегото хорошего «чего» «раз спрашиваешь значит до тебя еще ничего не дошло» у нее вздрогнуло сердце у «апофеоза войны» но ничего хорошего не захотелось а хотелось уйти из музея раз и навсегда «эта картина против войны» «нет за надо очень любить смерть чтобы нарисовать столько черепов и остаться жить» сказал отец больше они в музей не ходили а она однажды попробовала нарисовать по памяти «апофеоз» ничего не вышло каждый череп превращался в ее воображении в живого человека и она не знала что делать с этим возникшим в ней живым который уже мертвый', 1),\n",
              " ('вот теперь я это и сам могу', 'слезно молю вас сударь упросите никиту акинфиевича отпустить меня на волю', 0),\n",
              " ('ты его задушишь', 'ты ее разглядел', 0),\n",
              " ('слезно молю вас сударь упросите никиту акинфиевича отпустить меня на волю', 'нет таких новостей я вам тоже не принесла ради нас обеих я надеюсь что не так жестокосердна как первая леди уолтхэмстоу', 0),\n",
              " ('если я скажу его вам вас убьют', 'он должен лежать там', 0)]"
            ]
          },
          "metadata": {
            "tags": []
          },
          "execution_count": 29
        }
      ]
    },
    {
      "cell_type": "code",
      "metadata": {
        "colab": {
          "base_uri": "https://localhost:8080/"
        },
        "id": "Lnle8aKqusy3",
        "outputId": "79238294-8405-4394-bd8d-97c5c5de62d9"
      },
      "source": [
        "len(df)"
      ],
      "execution_count": 30,
      "outputs": [
        {
          "output_type": "execute_result",
          "data": {
            "text/plain": [
              "50757"
            ]
          },
          "metadata": {
            "tags": []
          },
          "execution_count": 30
        }
      ]
    },
    {
      "cell_type": "code",
      "metadata": {
        "id": "w2sf_C-rZpgn"
      },
      "source": [
        "batch_size = 21\r\n",
        "batches = []\r\n",
        "for i in range(0, len(df), batch_size):\r\n",
        "  batches.append(df[i:i+batch_size])"
      ],
      "execution_count": 31,
      "outputs": []
    },
    {
      "cell_type": "code",
      "metadata": {
        "id": "WlVaSGBORZjh"
      },
      "source": [
        "df = df[:20000]"
      ],
      "execution_count": 32,
      "outputs": []
    },
    {
      "cell_type": "code",
      "metadata": {
        "colab": {
          "base_uri": "https://localhost:8080/"
        },
        "id": "TGPWA3YNW2Q5",
        "outputId": "c7bbbeef-bd13-47a8-c663-18cf34448e3b"
      },
      "source": [
        "validation_start_index = int(len(df) * 0.2)\r\n",
        "validation_start_index"
      ],
      "execution_count": 33,
      "outputs": [
        {
          "output_type": "execute_result",
          "data": {
            "text/plain": [
              "4000"
            ]
          },
          "metadata": {
            "tags": []
          },
          "execution_count": 33
        }
      ]
    },
    {
      "cell_type": "code",
      "metadata": {
        "id": "PrsSaBRJc07i"
      },
      "source": [
        "class Datasetter(torch.utils.data.Dataset):\r\n",
        "  def __init__(self, data, pad=0, max_len=15):\r\n",
        "        \r\n",
        "        self.data = data\r\n",
        "        self.pad = pad\r\n",
        "        self.max_len = max_len\r\n",
        "        \r\n",
        "  def __len__(self):\r\n",
        "      return len(self.data)\r\n",
        "  \r\n",
        "  def padding(self, text, length):\r\n",
        "    text = text[:length]\r\n",
        "    if len(text) < length:\r\n",
        "      text += [self.pad] * (length - len(text))\r\n",
        "    return text\r\n",
        "\r\n",
        "  def __getitem__(self, index):\r\n",
        "      item = self.data[index]\r\n",
        "\r\n",
        "      xx = tokenizer.encode(item[0], bos=True, eos=True)\r\n",
        "      zz = tokenizer.encode(item[1], bos=True, eos=True)\r\n",
        "      yy = item[2]\r\n",
        "\r\n",
        "      #max_len = int(np.percentile([len(item) for item in xx], 90))\r\n",
        "      for i in range(len(xx)):\r\n",
        "        xx = self.padding(xx, self.max_len)\r\n",
        "        zz = self.padding(zz, self.max_len)\r\n",
        "\r\n",
        "      xx = torch.tensor(xx).to(device)\r\n",
        "      zz = torch.tensor(zz).to(device)\r\n",
        "      yy = torch.tensor(yy).to(device)\r\n",
        "\r\n",
        "      return xx, zz, yy"
      ],
      "execution_count": 34,
      "outputs": []
    },
    {
      "cell_type": "code",
      "metadata": {
        "colab": {
          "base_uri": "https://localhost:8080/"
        },
        "id": "QGWlAdlu5JKC",
        "outputId": "84c49b0e-5015-41ae-87da-5a9a405202d8"
      },
      "source": [
        "df[8]"
      ],
      "execution_count": 35,
      "outputs": [
        {
          "output_type": "execute_result",
          "data": {
            "text/plain": [
              "('это еще зачем кто нас тут станет искать', 'оставь свои умные вопросы при себе просто делай что я говорю затем иди к фургону «газель» помой его снаружи и изнутри хорошенько помой мы оставим его здесь на бабкином участке', 1)"
            ]
          },
          "metadata": {
            "tags": []
          },
          "execution_count": 35
        }
      ]
    },
    {
      "cell_type": "code",
      "metadata": {
        "colab": {
          "base_uri": "https://localhost:8080/"
        },
        "id": "cvCl12ewW-9D",
        "outputId": "d51414a4-c4b7-4502-98cf-c9f151c263df"
      },
      "source": [
        "train_dataset = Datasetter(data=df[:-validation_start_index], max_len=32, pad=0)\r\n",
        "validation_dataset = Datasetter(data=df[-validation_start_index:], max_len=32, pad=0)\r\n",
        "\r\n",
        "len(train_dataset), len(validation_dataset)"
      ],
      "execution_count": 36,
      "outputs": [
        {
          "output_type": "execute_result",
          "data": {
            "text/plain": [
              "(16000, 4000)"
            ]
          },
          "metadata": {
            "tags": []
          },
          "execution_count": 36
        }
      ]
    },
    {
      "cell_type": "code",
      "metadata": {
        "colab": {
          "base_uri": "https://localhost:8080/"
        },
        "id": "vXMDKIG_YOky",
        "outputId": "98c1575b-fcc2-4469-b089-12facfec5f4e"
      },
      "source": [
        "train_dataset[8]"
      ],
      "execution_count": 37,
      "outputs": [
        {
          "output_type": "execute_result",
          "data": {
            "text/plain": [
              "(tensor([   2,  134,  286,  839,  345,  292,  471, 1740, 2375,    3,    0,    0,\n",
              "            0,    0,    0,    0,    0,    0,    0,    0,    0,    0,    0,    0,\n",
              "            0,    0,    0,    0,    0,    0,    0,    0]),\n",
              " tensor([    2,  4004,   938, 22757,  2945,   154,   654,   424,  6103,   116,\n",
              "           115,  1738,  2442,  1535,    93, 11672, 23083, 20579, 13574,    38,\n",
              "          6199,   230,  7869,    96, 13886,  5125,  6199,   204,  8053,   230,\n",
              "           392,   107]),\n",
              " tensor(1))"
            ]
          },
          "metadata": {
            "tags": []
          },
          "execution_count": 37
        }
      ]
    },
    {
      "cell_type": "code",
      "metadata": {
        "id": "BTT51YlzXl1X"
      },
      "source": [
        "train_loader = torch.utils.data.DataLoader(train_dataset, batch_size=32)\r\n",
        "validation_loader = torch.utils.data.DataLoader(validation_dataset, batch_size=32)"
      ],
      "execution_count": 38,
      "outputs": []
    },
    {
      "cell_type": "code",
      "metadata": {
        "id": "LYaPCELaXvQB"
      },
      "source": [
        "for x, z, y in train_loader:\r\n",
        "    break"
      ],
      "execution_count": 39,
      "outputs": []
    },
    {
      "cell_type": "code",
      "metadata": {
        "colab": {
          "base_uri": "https://localhost:8080/"
        },
        "id": "6-6A4mwr3um3",
        "outputId": "83166ae6-a14f-48ed-d3e3-72a66ac80250"
      },
      "source": [
        "x.shape"
      ],
      "execution_count": 40,
      "outputs": [
        {
          "output_type": "execute_result",
          "data": {
            "text/plain": [
              "torch.Size([32, 32])"
            ]
          },
          "metadata": {
            "tags": []
          },
          "execution_count": 40
        }
      ]
    },
    {
      "cell_type": "code",
      "metadata": {
        "colab": {
          "base_uri": "https://localhost:8080/"
        },
        "id": "FjUA6aeW5eo3",
        "outputId": "a99160f4-a721-4ded-c5eb-0bc88cc76969"
      },
      "source": [
        "x"
      ],
      "execution_count": 41,
      "outputs": [
        {
          "output_type": "execute_result",
          "data": {
            "text/plain": [
              "tensor([[    2,   116,   775,  ...,     0,     0,     0],\n",
              "        [    2,   333,   432,  ...,     0,     0,     0],\n",
              "        [    2,   146,   230,  ...,     0,     0,     0],\n",
              "        ...,\n",
              "        [    2,  7645,   792,  ...,     0,     0,     0],\n",
              "        [    2,   185,   367,  ...,     0,     0,     0],\n",
              "        [    2, 17239,  1194,  ...,     0,     0,     0]])"
            ]
          },
          "metadata": {
            "tags": []
          },
          "execution_count": 41
        }
      ]
    },
    {
      "cell_type": "code",
      "metadata": {
        "colab": {
          "base_uri": "https://localhost:8080/",
          "height": 66,
          "referenced_widgets": [
            "f56b02a121944acaa4f24d4ae5d1d809",
            "6edae1fb4a154c49a722eda49cf2bce8",
            "ea90f907e6de46ad88c60b484fe9b642",
            "6f0a1288adb14caa80a7a62cd7a52922",
            "83e4681e4d4b482baaeeff137124effe",
            "2b352bb5252b4d9d8c4efd4aae5f3c8a",
            "1e6546a71aa844b2a01c1b4fa0cd11dd",
            "221e30b92a2242bdabd7d3b61fd4e10d"
          ]
        },
        "id": "r4bxUCr0uDnS",
        "outputId": "59190586-04d2-493b-b20c-c97b5fb19a3e"
      },
      "source": [
        "progress_bar = tqdm(total=len(validation_loader.dataset), desc='Testing')\r\n",
        "\r\n",
        "for x, z, y in validation_loader:\r\n",
        "    progress_bar.update(x.size(0))\r\n",
        "    \r\n",
        "progress_bar.close()"
      ],
      "execution_count": 42,
      "outputs": [
        {
          "output_type": "display_data",
          "data": {
            "application/vnd.jupyter.widget-view+json": {
              "model_id": "f56b02a121944acaa4f24d4ae5d1d809",
              "version_minor": 0,
              "version_major": 2
            },
            "text/plain": [
              "HBox(children=(FloatProgress(value=0.0, description='Testing', max=4000.0, style=ProgressStyle(description_wid…"
            ]
          },
          "metadata": {
            "tags": []
          }
        },
        {
          "output_type": "stream",
          "text": [
            "\n"
          ],
          "name": "stdout"
        }
      ]
    },
    {
      "cell_type": "code",
      "metadata": {
        "id": "i_yUqJ6RuQNq"
      },
      "source": [
        "s1 = \"привет! как дела?\"\r\n",
        "s2 = \"привет, спасибо, хорошо очень даже\"\r\n",
        "s3 = \"очень рад за тебя\"\r\n",
        "s4 = \"ты так мил\"\r\n",
        "#       [               batch0                ], [                batch1               ]\r\n",
        "data = [(s1, s2, 1), (s2, s3, 1), (s3, s4, 1), (s4, s1, 0), (s1, s4, 0), (s1, s3, 0)]\r\n",
        "dataset = Datasetter(data)"
      ],
      "execution_count": 43,
      "outputs": []
    },
    {
      "cell_type": "code",
      "metadata": {
        "colab": {
          "base_uri": "https://localhost:8080/"
        },
        "id": "f57VBsgH3a0_",
        "outputId": "c2ae66d7-5bfd-4548-8d1f-f590fd5a1542"
      },
      "source": [
        "dataset.__getitem__(0) #batch1"
      ],
      "execution_count": 44,
      "outputs": [
        {
          "output_type": "execute_result",
          "data": {
            "text/plain": [
              "(tensor([   2, 1689,    1,  165,  397,    1,    3,    0,    0,    0,    0,    0,\n",
              "            0,    0,    0]),\n",
              " tensor([   2, 1689,    1,  926,    1,  482,  373,  477,    3,    0,    0,    0,\n",
              "            0,    0,    0]),\n",
              " tensor(1))"
            ]
          },
          "metadata": {
            "tags": []
          },
          "execution_count": 44
        }
      ]
    },
    {
      "cell_type": "code",
      "metadata": {
        "id": "-HmdxmzO4Y6v"
      },
      "source": [
        "class SupaDupaModel(torch.nn.Module):\r\n",
        "\r\n",
        "  def __init__(self, vocab_size):\r\n",
        "    super().__init__()\r\n",
        "\r\n",
        "    self.embedding_layer = torch.nn.Embedding(num_embeddings=vocab_size,\r\n",
        "                                              embedding_dim=256, padding_idx=0)\r\n",
        "    \r\n",
        "    self.lstm = torch.nn.LSTM(input_size=256, hidden_size=256, \r\n",
        "                              num_layers=3, dropout=0.35, batch_first=True, bidirectional=True)\r\n",
        "\r\n",
        "    self.linear = torch.nn.Sequential(torch.nn.Linear(512, 128),\r\n",
        "                                      torch.nn.ReLU(),\r\n",
        "                                      torch.nn.Linear(128, 64))    \r\n",
        "  def forward(self, x):\r\n",
        "\r\n",
        "    x = self.embedding_layer(x)\r\n",
        "    x, _ = self.lstm(x)\r\n",
        "    x = self.linear(x)\r\n",
        "    x = torch.mean(x, dim=1)\r\n",
        "    return x\r\n",
        "\r\n",
        "class SupaDupaWrapper(torch.nn.Module):\r\n",
        "\r\n",
        "  def __init__(self, encoder):\r\n",
        "    super().__init__()\r\n",
        "\r\n",
        "    self.encoder = encoder\r\n",
        "    self.linear = torch.nn.Linear(32, 32)\r\n",
        "    # self.cos = torch.nn.CosineSimilarity(dim=1, eps=1e-6)\r\n",
        "    # self.loss = torch.nn.CosineEmbeddingLoss()\r\n",
        "\r\n",
        "  def forward(self, x, z):\r\n",
        "    emb_x = self.encoder(x)\r\n",
        "    emb_z = self.encoder(z)\r\n",
        "    multiplied = []\r\n",
        "    for ex, ez in zip(emb_x, emb_z):\r\n",
        "      multiplied.append(torch.dot(ex, ez))\r\n",
        "    multiplied = torch.tensor(multiplied)\r\n",
        "    pred = self.linear(multiplied)\r\n",
        "    # loss = self.loss(emb_x, emb_z)\r\n",
        "    # pred = self.cos(emb_x, emb_z, y)\r\n",
        "    # similarity = (emb_x * emb_z).sum(dim=1).unsqueeze(-1)\r\n",
        "    # pred = self.linear(similarity)\r\n",
        "\r\n",
        "    return torch.sigmoid(pred)"
      ],
      "execution_count": 156,
      "outputs": []
    },
    {
      "cell_type": "markdown",
      "metadata": {
        "id": "2SNNrtPvhOtw"
      },
      "source": [
        "### Toy dataset"
      ]
    },
    {
      "cell_type": "code",
      "metadata": {
        "colab": {
          "base_uri": "https://localhost:8080/"
        },
        "id": "n9TMYvOk7bv3",
        "outputId": "0e1bd9fb-1f91-47fa-f15c-d6855c886ec0"
      },
      "source": [
        "x = torch.randint(512, (32, 64))\r\n",
        "z = torch.randint(512, (32, 64))\r\n",
        "y = torch.randint(2, (32,))\r\n",
        "\r\n",
        "encoder = SupaDupaModel(vocab_size=vocab_size)\r\n",
        "wrapper = SupaDupaWrapper(encoder)\r\n",
        "criterion = torch.nn.CosineEmbeddingLoss()\r\n",
        "\r\n",
        "pred = wrapper(x, z)\r\n",
        "# loss = criterion(emb_x, emb_z, y)\r\n",
        "pred"
      ],
      "execution_count": 157,
      "outputs": [
        {
          "output_type": "execute_result",
          "data": {
            "text/plain": [
              "tensor([0.5225, 0.5104, 0.5510, 0.4817, 0.4856, 0.5476, 0.4680, 0.4811, 0.4655,\n",
              "        0.5661, 0.4945, 0.4588, 0.4728, 0.5154, 0.5258, 0.5508, 0.4736, 0.5543,\n",
              "        0.5227, 0.4748, 0.4482, 0.4916, 0.5417, 0.4810, 0.4825, 0.4772, 0.4975,\n",
              "        0.4939, 0.4959, 0.5668, 0.4937, 0.4617], grad_fn=<SigmoidBackward>)"
            ]
          },
          "metadata": {
            "tags": []
          },
          "execution_count": 157
        }
      ]
    },
    {
      "cell_type": "code",
      "metadata": {
        "colab": {
          "base_uri": "https://localhost:8080/"
        },
        "id": "KNWGhKiaOLQy",
        "outputId": "d8203b96-a3e8-46a3-87d4-338b8baab00d"
      },
      "source": [
        "from sklearn.metrics import roc_auc_score\r\n",
        "epochs = 10\r\n",
        "encoder = SupaDupaModel(vocab_size=vocab_size)\r\n",
        "model = SupaDupaWrapper(encoder)\r\n",
        "# определяем функцию потерь — бинарную кросс-энтропию\r\n",
        "criterion = torch.nn.BCELoss()\r\n",
        "# определяем алгоритм оптимизации Adam\r\n",
        "optimizer = torch.optim.Adam(model.parameters(), lr=0.01)\r\n",
        "for epoch in range(epochs):\r\n",
        "    optimizer.zero_grad()\r\n",
        "    predictions = model(x, z)\r\n",
        "    loss = criterion(predictions.to(torch.float32), y.to(torch.float32))\r\n",
        "    print(loss)\r\n",
        "    # вычисляем градиенты\r\n",
        "    loss.backward()\r\n",
        "    # обновляем параметры\r\n",
        "    optimizer.step()\r\n",
        "\r\n",
        "predictions = model(x, z)\r\n",
        "print(roc_auc_score(y, predictions.detach().numpy()))"
      ],
      "execution_count": 158,
      "outputs": [
        {
          "output_type": "stream",
          "text": [
            "tensor(0.6966, grad_fn=<BinaryCrossEntropyBackward>)\n",
            "tensor(0.6654, grad_fn=<BinaryCrossEntropyBackward>)\n",
            "tensor(0.6352, grad_fn=<BinaryCrossEntropyBackward>)\n",
            "tensor(0.6060, grad_fn=<BinaryCrossEntropyBackward>)\n",
            "tensor(0.5779, grad_fn=<BinaryCrossEntropyBackward>)\n",
            "tensor(0.5507, grad_fn=<BinaryCrossEntropyBackward>)\n",
            "tensor(0.5248, grad_fn=<BinaryCrossEntropyBackward>)\n",
            "tensor(0.4999, grad_fn=<BinaryCrossEntropyBackward>)\n",
            "tensor(0.4760, grad_fn=<BinaryCrossEntropyBackward>)\n",
            "tensor(0.4532, grad_fn=<BinaryCrossEntropyBackward>)\n",
            "1.0\n"
          ],
          "name": "stdout"
        }
      ]
    },
    {
      "cell_type": "code",
      "metadata": {
        "colab": {
          "base_uri": "https://localhost:8080/"
        },
        "id": "lRoOaHuOZ3LO",
        "outputId": "047662dd-273a-4464-8928-fae426baca1f"
      },
      "source": [
        "criterion(predictions.to(torch.float32), y.to(torch.float32))"
      ],
      "execution_count": 159,
      "outputs": [
        {
          "output_type": "execute_result",
          "data": {
            "text/plain": [
              "tensor(0.4312, grad_fn=<BinaryCrossEntropyBackward>)"
            ]
          },
          "metadata": {
            "tags": []
          },
          "execution_count": 159
        }
      ]
    },
    {
      "cell_type": "code",
      "metadata": {
        "colab": {
          "base_uri": "https://localhost:8080/"
        },
        "id": "1PvGssKtuQQB",
        "outputId": "8b372400-b0dd-4539-fb90-5f2d9d667226"
      },
      "source": [
        "y"
      ],
      "execution_count": 160,
      "outputs": [
        {
          "output_type": "execute_result",
          "data": {
            "text/plain": [
              "tensor([1, 1, 0, 0, 0, 0, 0, 1, 0, 1, 0, 1, 1, 1, 1, 0, 0, 0, 1, 1, 1, 1, 0, 1,\n",
              "        0, 1, 1, 0, 0, 1, 0, 0])"
            ]
          },
          "metadata": {
            "tags": []
          },
          "execution_count": 160
        }
      ]
    },
    {
      "cell_type": "markdown",
      "metadata": {
        "id": "75mKu9NZhh0e"
      },
      "source": [
        "Все работает нормально, loss уменьшается"
      ]
    },
    {
      "cell_type": "markdown",
      "metadata": {
        "id": "t4HIw2s_hUV3"
      },
      "source": [
        "### Normal dataset"
      ]
    },
    {
      "cell_type": "code",
      "metadata": {
        "colab": {
          "base_uri": "https://localhost:8080/"
        },
        "id": "7JbzSw6BN031",
        "outputId": "4637b7d8-8993-4057-bd92-53de8372b4a0"
      },
      "source": [
        "encoder = SupaDupaModel(vocab_size=vocab_size)\r\n",
        "model = SupaDupaWrapper(encoder)\r\n",
        "model.to(device)"
      ],
      "execution_count": 161,
      "outputs": [
        {
          "output_type": "execute_result",
          "data": {
            "text/plain": [
              "SupaDupaWrapper(\n",
              "  (encoder): SupaDupaModel(\n",
              "    (embedding_layer): Embedding(30000, 256, padding_idx=0)\n",
              "    (lstm): LSTM(256, 256, num_layers=3, batch_first=True, dropout=0.35, bidirectional=True)\n",
              "    (linear): Sequential(\n",
              "      (0): Linear(in_features=512, out_features=128, bias=True)\n",
              "      (1): ReLU()\n",
              "      (2): Linear(in_features=128, out_features=64, bias=True)\n",
              "    )\n",
              "  )\n",
              "  (linear): Linear(in_features=32, out_features=32, bias=True)\n",
              "  (cos): CosineSimilarity()\n",
              "  (loss): CosineEmbeddingLoss()\n",
              ")"
            ]
          },
          "metadata": {
            "tags": []
          },
          "execution_count": 161
        }
      ]
    },
    {
      "cell_type": "code",
      "metadata": {
        "id": "qsvOqY2EvmkI"
      },
      "source": [
        "with torch.no_grad():\r\n",
        "    pred = model(x, z)"
      ],
      "execution_count": 162,
      "outputs": []
    },
    {
      "cell_type": "code",
      "metadata": {
        "colab": {
          "base_uri": "https://localhost:8080/"
        },
        "id": "0Tk8LBF5vxo9",
        "outputId": "eb234092-d862-4b82-ed87-1d904b09306f"
      },
      "source": [
        "pred.shape"
      ],
      "execution_count": 163,
      "outputs": [
        {
          "output_type": "execute_result",
          "data": {
            "text/plain": [
              "torch.Size([32])"
            ]
          },
          "metadata": {
            "tags": []
          },
          "execution_count": 163
        }
      ]
    },
    {
      "cell_type": "code",
      "metadata": {
        "id": "_1qVavwiNuH_"
      },
      "source": [
        "criterion = torch.nn.BCELoss()\r\n",
        "optimizer = torch.optim.Adam(model.parameters(), lr=0.1)"
      ],
      "execution_count": 164,
      "outputs": []
    },
    {
      "cell_type": "code",
      "metadata": {
        "id": "rSG3i4NINlKO"
      },
      "source": [
        "def basic_train(model, optimizer, criterion, x, z, y):\r\n",
        "    model.train()\r\n",
        "    predictions = model.forward(x, z)\r\n",
        "    loss = criterion(predictions.to(torch.float32), y.to(torch.float32))\r\n",
        "    optimizer.zero_grad()\r\n",
        "    loss.backward()\r\n",
        "    optimizer.step()\r\n",
        "         \r\n",
        "    return loss\r\n",
        "\r\n",
        "def basic_validate(model, criterion, x, z, y):\r\n",
        "    model.eval()\r\n",
        "    with torch.no_grad():\r\n",
        "        predictions = model.forward(x, z)\r\n",
        "        \r\n",
        "    loss = criterion(predictions.to(torch.float32), y.to(torch.float32))\r\n",
        "    return loss\r\n",
        "\r\n",
        "def basic_iterate(model, t_loader, v_loader, epochs, optimizer, criterion, last_n_losses=500):\r\n",
        "    losses = []\r\n",
        "    val_losses = []\r\n",
        "    \r\n",
        "    prev_val_loss = 100000000\r\n",
        "    for n_epoch in range(epochs):\r\n",
        "        progress_bar = tqdm(total=len(t_loader), desc=f'Epoch {n_epoch + 1} of {epochs}')\r\n",
        "        for x, z, y in t_loader:  \r\n",
        "            x = x.to(device)\r\n",
        "            z = z.to(device)\r\n",
        "            loss = basic_train(model, optimizer, criterion, x, z, y)        \r\n",
        "            losses.append(loss.detach().numpy())        \r\n",
        "            if len(losses) > 1:\r\n",
        "              progress_bar.set_postfix(loss=np.mean(losses[-last_n_losses:]))    \r\n",
        "              progress_bar.update()    \r\n",
        "        progress_bar.close()\r\n",
        "\r\n",
        "        for x, z, y in v_loader:\r\n",
        "            loss = basic_validate(model, criterion, x, z, y)\r\n",
        "            val_losses.append(loss.detach().numpy()) \r\n",
        "\r\n",
        "        curr_loss = np.mean(val_losses)\r\n",
        "        print(\"\\nCurr val loss: \", curr_loss)\r\n",
        "\r\n",
        "        if curr_loss < prev_val_loss:\r\n",
        "            torch.save(model.state_dict(), f'model')\r\n",
        "            torch.save(optimizer.state_dict(), f'optimizer')\r\n",
        "            prev_val_loss = curr_loss\r\n",
        "        \r\n",
        "    return losses"
      ],
      "execution_count": 165,
      "outputs": []
    },
    {
      "cell_type": "code",
      "metadata": {
        "id": "MKTIk-963asj",
        "colab": {
          "base_uri": "https://localhost:8080/",
          "height": 747,
          "referenced_widgets": [
            "7d2571735738444fb6685c8200a9751a",
            "c4b6334bb91e420bb8da3722eda62b06",
            "8f49854f5241423a8eea257bc01a07e7",
            "c7f239ea7a53433a81b8166a24259055",
            "c2de68de871947faa16336cf23669ad2",
            "a9aef311cb244ff0929833b723e076fc",
            "18259a7bd18549f98b2d6f093725a794",
            "761873106cbc4cfd95bc94ffe2a2f8c9",
            "460972ea6632435daf76840840c16be1",
            "9f698af25cbe4e97843386fcf698e321",
            "074e220a6018488da261d6dd705a650c",
            "37bddcd022334a3bb659744edd199960",
            "f932f6eafdd44bc7bd3111c95cb6b32f",
            "dc63b9aceb55447da627324e06cd9450",
            "c78d1e3cba14472f81f4c85ea23c68ac",
            "33edcfcc3afc4310a7f3af151df09730",
            "967e82092a3540088dc921be21429a3a",
            "30db5e72f1154fbebe4e89958f043a4e",
            "b7b809b9331e4b8cacf00ae54b3f5f2b",
            "948c96c16302477996e7c9c14e54792b",
            "4dbc00759b934ce892b392966b52f1a2",
            "9a0d54c072a140799dad13a0f968329c",
            "c07bbcd21239474f904243fd54c2482a",
            "6451f1098747464dbf72eb3d8cd8c824",
            "210a70a802ef4f8498a986b96e80c18d",
            "317914c63449411ebbc47279bfbe6f51",
            "0d38f598afb44f7593b1d6429be1f51f",
            "110ad30da43f468183fb4d829f8a4544",
            "a2d8149fd7cd4d48b5e239b2da4cd75a",
            "94ee2458b7ad47089e16f12c87c24d71",
            "ccc9c778240341dd9e3de8e29d36ee8d",
            "5523a792156a46858f9430399ff342f8",
            "e81cf6b6c240476f97ff2d1129a703af",
            "c047c27f75c44aeb8d70a340011cff6b",
            "00d18b9925dd406791ebf1ec0b63f2fe",
            "f5355c89f790432eae6dff2a6c27daec",
            "a3e9e1771b3947e7b745c6a3c117a899",
            "a6e5fc6073334500adf685c4b8df8c95",
            "57dd359520a64cfd8f8f09571012c068",
            "0b3d4da8b0ed4fbabf9e0ab7b73428d7",
            "7adf85744aaa46b29efa9120f895f750",
            "cf8ceb0e6f1644159a4b7d5cb55453c1",
            "c7be04ec6b1f4f18a163a81ec793efd9",
            "6e8fe383fc84429096168c5366f79148",
            "5437e5d7aa874946bc1c10145ef039ac",
            "1e621c853ce949dcb9f03d713c962791",
            "6c2ec258a0344202b1592355c52f6336",
            "41da0203d9d54ddeadb80b46428bc723"
          ]
        },
        "outputId": "046b93a7-3eee-403d-e6f8-c31e7eb7989c"
      },
      "source": [
        "epoch_losses = basic_iterate(model, train_loader, validation_loader, 10, optimizer, criterion)"
      ],
      "execution_count": 169,
      "outputs": [
        {
          "output_type": "display_data",
          "data": {
            "application/vnd.jupyter.widget-view+json": {
              "model_id": "7d2571735738444fb6685c8200a9751a",
              "version_minor": 0,
              "version_major": 2
            },
            "text/plain": [
              "HBox(children=(FloatProgress(value=0.0, description='Epoch 1 of 10', max=500.0, style=ProgressStyle(descriptio…"
            ]
          },
          "metadata": {
            "tags": []
          }
        },
        {
          "output_type": "stream",
          "text": [
            "\n",
            "\n",
            "Curr val loss:  0.821169\n"
          ],
          "name": "stdout"
        },
        {
          "output_type": "display_data",
          "data": {
            "application/vnd.jupyter.widget-view+json": {
              "model_id": "460972ea6632435daf76840840c16be1",
              "version_minor": 0,
              "version_major": 2
            },
            "text/plain": [
              "HBox(children=(FloatProgress(value=0.0, description='Epoch 2 of 10', max=500.0, style=ProgressStyle(descriptio…"
            ]
          },
          "metadata": {
            "tags": []
          }
        },
        {
          "output_type": "stream",
          "text": [
            "\n",
            "\n",
            "Curr val loss:  0.82118917\n"
          ],
          "name": "stdout"
        },
        {
          "output_type": "display_data",
          "data": {
            "application/vnd.jupyter.widget-view+json": {
              "model_id": "967e82092a3540088dc921be21429a3a",
              "version_minor": 0,
              "version_major": 2
            },
            "text/plain": [
              "HBox(children=(FloatProgress(value=0.0, description='Epoch 3 of 10', max=500.0, style=ProgressStyle(descriptio…"
            ]
          },
          "metadata": {
            "tags": []
          }
        },
        {
          "output_type": "stream",
          "text": [
            "\n",
            "\n",
            "Curr val loss:  0.82117856\n"
          ],
          "name": "stdout"
        },
        {
          "output_type": "display_data",
          "data": {
            "application/vnd.jupyter.widget-view+json": {
              "model_id": "210a70a802ef4f8498a986b96e80c18d",
              "version_minor": 0,
              "version_major": 2
            },
            "text/plain": [
              "HBox(children=(FloatProgress(value=0.0, description='Epoch 4 of 10', max=500.0, style=ProgressStyle(descriptio…"
            ]
          },
          "metadata": {
            "tags": []
          }
        },
        {
          "output_type": "stream",
          "text": [
            "\n",
            "\n",
            "Curr val loss:  0.82116777\n"
          ],
          "name": "stdout"
        },
        {
          "output_type": "display_data",
          "data": {
            "application/vnd.jupyter.widget-view+json": {
              "model_id": "e81cf6b6c240476f97ff2d1129a703af",
              "version_minor": 0,
              "version_major": 2
            },
            "text/plain": [
              "HBox(children=(FloatProgress(value=0.0, description='Epoch 5 of 10', max=500.0, style=ProgressStyle(descriptio…"
            ]
          },
          "metadata": {
            "tags": []
          }
        },
        {
          "output_type": "stream",
          "text": [
            "\n",
            "\n",
            "Curr val loss:  0.8211719\n"
          ],
          "name": "stdout"
        },
        {
          "output_type": "display_data",
          "data": {
            "application/vnd.jupyter.widget-view+json": {
              "model_id": "7adf85744aaa46b29efa9120f895f750",
              "version_minor": 0,
              "version_major": 2
            },
            "text/plain": [
              "HBox(children=(FloatProgress(value=0.0, description='Epoch 6 of 10', max=500.0, style=ProgressStyle(descriptio…"
            ]
          },
          "metadata": {
            "tags": []
          }
        },
        {
          "output_type": "error",
          "ename": "KeyboardInterrupt",
          "evalue": "ignored",
          "traceback": [
            "\u001b[0;31m---------------------------------------------------------------------------\u001b[0m",
            "\u001b[0;31mKeyboardInterrupt\u001b[0m                         Traceback (most recent call last)",
            "\u001b[0;32m<ipython-input-169-545b5dc86233>\u001b[0m in \u001b[0;36m<module>\u001b[0;34m()\u001b[0m\n\u001b[0;32m----> 1\u001b[0;31m \u001b[0mepoch_losses\u001b[0m \u001b[0;34m=\u001b[0m \u001b[0mbasic_iterate\u001b[0m\u001b[0;34m(\u001b[0m\u001b[0mmodel\u001b[0m\u001b[0;34m,\u001b[0m \u001b[0mtrain_loader\u001b[0m\u001b[0;34m,\u001b[0m \u001b[0mvalidation_loader\u001b[0m\u001b[0;34m,\u001b[0m \u001b[0;36m10\u001b[0m\u001b[0;34m,\u001b[0m \u001b[0moptimizer\u001b[0m\u001b[0;34m,\u001b[0m \u001b[0mcriterion\u001b[0m\u001b[0;34m)\u001b[0m\u001b[0;34m\u001b[0m\u001b[0;34m\u001b[0m\u001b[0m\n\u001b[0m",
            "\u001b[0;32m<ipython-input-165-fc02250920f4>\u001b[0m in \u001b[0;36mbasic_iterate\u001b[0;34m(model, t_loader, v_loader, epochs, optimizer, criterion, last_n_losses)\u001b[0m\n\u001b[1;32m     27\u001b[0m             \u001b[0mx\u001b[0m \u001b[0;34m=\u001b[0m \u001b[0mx\u001b[0m\u001b[0;34m.\u001b[0m\u001b[0mto\u001b[0m\u001b[0;34m(\u001b[0m\u001b[0mdevice\u001b[0m\u001b[0;34m)\u001b[0m\u001b[0;34m\u001b[0m\u001b[0;34m\u001b[0m\u001b[0m\n\u001b[1;32m     28\u001b[0m             \u001b[0mz\u001b[0m \u001b[0;34m=\u001b[0m \u001b[0mz\u001b[0m\u001b[0;34m.\u001b[0m\u001b[0mto\u001b[0m\u001b[0;34m(\u001b[0m\u001b[0mdevice\u001b[0m\u001b[0;34m)\u001b[0m\u001b[0;34m\u001b[0m\u001b[0;34m\u001b[0m\u001b[0m\n\u001b[0;32m---> 29\u001b[0;31m             \u001b[0mloss\u001b[0m \u001b[0;34m=\u001b[0m \u001b[0mbasic_train\u001b[0m\u001b[0;34m(\u001b[0m\u001b[0mmodel\u001b[0m\u001b[0;34m,\u001b[0m \u001b[0moptimizer\u001b[0m\u001b[0;34m,\u001b[0m \u001b[0mcriterion\u001b[0m\u001b[0;34m,\u001b[0m \u001b[0mx\u001b[0m\u001b[0;34m,\u001b[0m \u001b[0mz\u001b[0m\u001b[0;34m,\u001b[0m \u001b[0my\u001b[0m\u001b[0;34m)\u001b[0m\u001b[0;34m\u001b[0m\u001b[0;34m\u001b[0m\u001b[0m\n\u001b[0m\u001b[1;32m     30\u001b[0m             \u001b[0mlosses\u001b[0m\u001b[0;34m.\u001b[0m\u001b[0mappend\u001b[0m\u001b[0;34m(\u001b[0m\u001b[0mloss\u001b[0m\u001b[0;34m.\u001b[0m\u001b[0mdetach\u001b[0m\u001b[0;34m(\u001b[0m\u001b[0;34m)\u001b[0m\u001b[0;34m.\u001b[0m\u001b[0mnumpy\u001b[0m\u001b[0;34m(\u001b[0m\u001b[0;34m)\u001b[0m\u001b[0;34m)\u001b[0m\u001b[0;34m\u001b[0m\u001b[0;34m\u001b[0m\u001b[0m\n\u001b[1;32m     31\u001b[0m             \u001b[0;32mif\u001b[0m \u001b[0mlen\u001b[0m\u001b[0;34m(\u001b[0m\u001b[0mlosses\u001b[0m\u001b[0;34m)\u001b[0m \u001b[0;34m>\u001b[0m \u001b[0;36m1\u001b[0m\u001b[0;34m:\u001b[0m\u001b[0;34m\u001b[0m\u001b[0;34m\u001b[0m\u001b[0m\n",
            "\u001b[0;32m<ipython-input-165-fc02250920f4>\u001b[0m in \u001b[0;36mbasic_train\u001b[0;34m(model, optimizer, criterion, x, z, y)\u001b[0m\n\u001b[1;32m      1\u001b[0m \u001b[0;32mdef\u001b[0m \u001b[0mbasic_train\u001b[0m\u001b[0;34m(\u001b[0m\u001b[0mmodel\u001b[0m\u001b[0;34m,\u001b[0m \u001b[0moptimizer\u001b[0m\u001b[0;34m,\u001b[0m \u001b[0mcriterion\u001b[0m\u001b[0;34m,\u001b[0m \u001b[0mx\u001b[0m\u001b[0;34m,\u001b[0m \u001b[0mz\u001b[0m\u001b[0;34m,\u001b[0m \u001b[0my\u001b[0m\u001b[0;34m)\u001b[0m\u001b[0;34m:\u001b[0m\u001b[0;34m\u001b[0m\u001b[0;34m\u001b[0m\u001b[0m\n\u001b[1;32m      2\u001b[0m     \u001b[0mmodel\u001b[0m\u001b[0;34m.\u001b[0m\u001b[0mtrain\u001b[0m\u001b[0;34m(\u001b[0m\u001b[0;34m)\u001b[0m\u001b[0;34m\u001b[0m\u001b[0;34m\u001b[0m\u001b[0m\n\u001b[0;32m----> 3\u001b[0;31m     \u001b[0mpredictions\u001b[0m \u001b[0;34m=\u001b[0m \u001b[0mmodel\u001b[0m\u001b[0;34m.\u001b[0m\u001b[0mforward\u001b[0m\u001b[0;34m(\u001b[0m\u001b[0mx\u001b[0m\u001b[0;34m,\u001b[0m \u001b[0mz\u001b[0m\u001b[0;34m)\u001b[0m\u001b[0;34m\u001b[0m\u001b[0;34m\u001b[0m\u001b[0m\n\u001b[0m\u001b[1;32m      4\u001b[0m     \u001b[0mloss\u001b[0m \u001b[0;34m=\u001b[0m \u001b[0mcriterion\u001b[0m\u001b[0;34m(\u001b[0m\u001b[0mpredictions\u001b[0m\u001b[0;34m.\u001b[0m\u001b[0mto\u001b[0m\u001b[0;34m(\u001b[0m\u001b[0mtorch\u001b[0m\u001b[0;34m.\u001b[0m\u001b[0mfloat32\u001b[0m\u001b[0;34m)\u001b[0m\u001b[0;34m,\u001b[0m \u001b[0my\u001b[0m\u001b[0;34m.\u001b[0m\u001b[0mto\u001b[0m\u001b[0;34m(\u001b[0m\u001b[0mtorch\u001b[0m\u001b[0;34m.\u001b[0m\u001b[0mfloat32\u001b[0m\u001b[0;34m)\u001b[0m\u001b[0;34m)\u001b[0m\u001b[0;34m\u001b[0m\u001b[0;34m\u001b[0m\u001b[0m\n\u001b[1;32m      5\u001b[0m     \u001b[0moptimizer\u001b[0m\u001b[0;34m.\u001b[0m\u001b[0mzero_grad\u001b[0m\u001b[0;34m(\u001b[0m\u001b[0;34m)\u001b[0m\u001b[0;34m\u001b[0m\u001b[0;34m\u001b[0m\u001b[0m\n",
            "\u001b[0;32m<ipython-input-156-5e7da3555477>\u001b[0m in \u001b[0;36mforward\u001b[0;34m(self, x, z)\u001b[0m\n\u001b[1;32m     32\u001b[0m \u001b[0;34m\u001b[0m\u001b[0m\n\u001b[1;32m     33\u001b[0m   \u001b[0;32mdef\u001b[0m \u001b[0mforward\u001b[0m\u001b[0;34m(\u001b[0m\u001b[0mself\u001b[0m\u001b[0;34m,\u001b[0m \u001b[0mx\u001b[0m\u001b[0;34m,\u001b[0m \u001b[0mz\u001b[0m\u001b[0;34m)\u001b[0m\u001b[0;34m:\u001b[0m\u001b[0;34m\u001b[0m\u001b[0;34m\u001b[0m\u001b[0m\n\u001b[0;32m---> 34\u001b[0;31m     \u001b[0memb_x\u001b[0m \u001b[0;34m=\u001b[0m \u001b[0mself\u001b[0m\u001b[0;34m.\u001b[0m\u001b[0mencoder\u001b[0m\u001b[0;34m(\u001b[0m\u001b[0mx\u001b[0m\u001b[0;34m)\u001b[0m\u001b[0;34m\u001b[0m\u001b[0;34m\u001b[0m\u001b[0m\n\u001b[0m\u001b[1;32m     35\u001b[0m     \u001b[0memb_z\u001b[0m \u001b[0;34m=\u001b[0m \u001b[0mself\u001b[0m\u001b[0;34m.\u001b[0m\u001b[0mencoder\u001b[0m\u001b[0;34m(\u001b[0m\u001b[0mz\u001b[0m\u001b[0;34m)\u001b[0m\u001b[0;34m\u001b[0m\u001b[0;34m\u001b[0m\u001b[0m\n\u001b[1;32m     36\u001b[0m     \u001b[0mmultiplied\u001b[0m \u001b[0;34m=\u001b[0m \u001b[0;34m[\u001b[0m\u001b[0;34m]\u001b[0m\u001b[0;34m\u001b[0m\u001b[0;34m\u001b[0m\u001b[0m\n",
            "\u001b[0;32m/usr/local/lib/python3.6/dist-packages/torch/nn/modules/module.py\u001b[0m in \u001b[0;36m_call_impl\u001b[0;34m(self, *input, **kwargs)\u001b[0m\n\u001b[1;32m    725\u001b[0m             \u001b[0mresult\u001b[0m \u001b[0;34m=\u001b[0m \u001b[0mself\u001b[0m\u001b[0;34m.\u001b[0m\u001b[0m_slow_forward\u001b[0m\u001b[0;34m(\u001b[0m\u001b[0;34m*\u001b[0m\u001b[0minput\u001b[0m\u001b[0;34m,\u001b[0m \u001b[0;34m**\u001b[0m\u001b[0mkwargs\u001b[0m\u001b[0;34m)\u001b[0m\u001b[0;34m\u001b[0m\u001b[0;34m\u001b[0m\u001b[0m\n\u001b[1;32m    726\u001b[0m         \u001b[0;32melse\u001b[0m\u001b[0;34m:\u001b[0m\u001b[0;34m\u001b[0m\u001b[0;34m\u001b[0m\u001b[0m\n\u001b[0;32m--> 727\u001b[0;31m             \u001b[0mresult\u001b[0m \u001b[0;34m=\u001b[0m \u001b[0mself\u001b[0m\u001b[0;34m.\u001b[0m\u001b[0mforward\u001b[0m\u001b[0;34m(\u001b[0m\u001b[0;34m*\u001b[0m\u001b[0minput\u001b[0m\u001b[0;34m,\u001b[0m \u001b[0;34m**\u001b[0m\u001b[0mkwargs\u001b[0m\u001b[0;34m)\u001b[0m\u001b[0;34m\u001b[0m\u001b[0;34m\u001b[0m\u001b[0m\n\u001b[0m\u001b[1;32m    728\u001b[0m         for hook in itertools.chain(\n\u001b[1;32m    729\u001b[0m                 \u001b[0m_global_forward_hooks\u001b[0m\u001b[0;34m.\u001b[0m\u001b[0mvalues\u001b[0m\u001b[0;34m(\u001b[0m\u001b[0;34m)\u001b[0m\u001b[0;34m,\u001b[0m\u001b[0;34m\u001b[0m\u001b[0;34m\u001b[0m\u001b[0m\n",
            "\u001b[0;32m<ipython-input-156-5e7da3555477>\u001b[0m in \u001b[0;36mforward\u001b[0;34m(self, x)\u001b[0m\n\u001b[1;32m     16\u001b[0m \u001b[0;34m\u001b[0m\u001b[0m\n\u001b[1;32m     17\u001b[0m     \u001b[0mx\u001b[0m \u001b[0;34m=\u001b[0m \u001b[0mself\u001b[0m\u001b[0;34m.\u001b[0m\u001b[0membedding_layer\u001b[0m\u001b[0;34m(\u001b[0m\u001b[0mx\u001b[0m\u001b[0;34m)\u001b[0m\u001b[0;34m\u001b[0m\u001b[0;34m\u001b[0m\u001b[0m\n\u001b[0;32m---> 18\u001b[0;31m     \u001b[0mx\u001b[0m\u001b[0;34m,\u001b[0m \u001b[0m_\u001b[0m \u001b[0;34m=\u001b[0m \u001b[0mself\u001b[0m\u001b[0;34m.\u001b[0m\u001b[0mlstm\u001b[0m\u001b[0;34m(\u001b[0m\u001b[0mx\u001b[0m\u001b[0;34m)\u001b[0m\u001b[0;34m\u001b[0m\u001b[0;34m\u001b[0m\u001b[0m\n\u001b[0m\u001b[1;32m     19\u001b[0m     \u001b[0mx\u001b[0m \u001b[0;34m=\u001b[0m \u001b[0mself\u001b[0m\u001b[0;34m.\u001b[0m\u001b[0mlinear\u001b[0m\u001b[0;34m(\u001b[0m\u001b[0mx\u001b[0m\u001b[0;34m)\u001b[0m\u001b[0;34m\u001b[0m\u001b[0;34m\u001b[0m\u001b[0m\n\u001b[1;32m     20\u001b[0m     \u001b[0mx\u001b[0m \u001b[0;34m=\u001b[0m \u001b[0mtorch\u001b[0m\u001b[0;34m.\u001b[0m\u001b[0mmean\u001b[0m\u001b[0;34m(\u001b[0m\u001b[0mx\u001b[0m\u001b[0;34m,\u001b[0m \u001b[0mdim\u001b[0m\u001b[0;34m=\u001b[0m\u001b[0;36m1\u001b[0m\u001b[0;34m)\u001b[0m\u001b[0;34m\u001b[0m\u001b[0;34m\u001b[0m\u001b[0m\n",
            "\u001b[0;32m/usr/local/lib/python3.6/dist-packages/torch/nn/modules/module.py\u001b[0m in \u001b[0;36m_call_impl\u001b[0;34m(self, *input, **kwargs)\u001b[0m\n\u001b[1;32m    725\u001b[0m             \u001b[0mresult\u001b[0m \u001b[0;34m=\u001b[0m \u001b[0mself\u001b[0m\u001b[0;34m.\u001b[0m\u001b[0m_slow_forward\u001b[0m\u001b[0;34m(\u001b[0m\u001b[0;34m*\u001b[0m\u001b[0minput\u001b[0m\u001b[0;34m,\u001b[0m \u001b[0;34m**\u001b[0m\u001b[0mkwargs\u001b[0m\u001b[0;34m)\u001b[0m\u001b[0;34m\u001b[0m\u001b[0;34m\u001b[0m\u001b[0m\n\u001b[1;32m    726\u001b[0m         \u001b[0;32melse\u001b[0m\u001b[0;34m:\u001b[0m\u001b[0;34m\u001b[0m\u001b[0;34m\u001b[0m\u001b[0m\n\u001b[0;32m--> 727\u001b[0;31m             \u001b[0mresult\u001b[0m \u001b[0;34m=\u001b[0m \u001b[0mself\u001b[0m\u001b[0;34m.\u001b[0m\u001b[0mforward\u001b[0m\u001b[0;34m(\u001b[0m\u001b[0;34m*\u001b[0m\u001b[0minput\u001b[0m\u001b[0;34m,\u001b[0m \u001b[0;34m**\u001b[0m\u001b[0mkwargs\u001b[0m\u001b[0;34m)\u001b[0m\u001b[0;34m\u001b[0m\u001b[0;34m\u001b[0m\u001b[0m\n\u001b[0m\u001b[1;32m    728\u001b[0m         for hook in itertools.chain(\n\u001b[1;32m    729\u001b[0m                 \u001b[0m_global_forward_hooks\u001b[0m\u001b[0;34m.\u001b[0m\u001b[0mvalues\u001b[0m\u001b[0;34m(\u001b[0m\u001b[0;34m)\u001b[0m\u001b[0;34m,\u001b[0m\u001b[0;34m\u001b[0m\u001b[0;34m\u001b[0m\u001b[0m\n",
            "\u001b[0;32m/usr/local/lib/python3.6/dist-packages/torch/nn/modules/rnn.py\u001b[0m in \u001b[0;36mforward\u001b[0;34m(self, input, hx)\u001b[0m\n\u001b[1;32m    580\u001b[0m         \u001b[0;32mif\u001b[0m \u001b[0mbatch_sizes\u001b[0m \u001b[0;32mis\u001b[0m \u001b[0;32mNone\u001b[0m\u001b[0;34m:\u001b[0m\u001b[0;34m\u001b[0m\u001b[0;34m\u001b[0m\u001b[0m\n\u001b[1;32m    581\u001b[0m             result = _VF.lstm(input, hx, self._flat_weights, self.bias, self.num_layers,\n\u001b[0;32m--> 582\u001b[0;31m                               self.dropout, self.training, self.bidirectional, self.batch_first)\n\u001b[0m\u001b[1;32m    583\u001b[0m         \u001b[0;32melse\u001b[0m\u001b[0;34m:\u001b[0m\u001b[0;34m\u001b[0m\u001b[0;34m\u001b[0m\u001b[0m\n\u001b[1;32m    584\u001b[0m             result = _VF.lstm(input, batch_sizes, hx, self._flat_weights, self.bias,\n",
            "\u001b[0;31mKeyboardInterrupt\u001b[0m: "
          ]
        }
      ]
    },
    {
      "cell_type": "code",
      "metadata": {
        "colab": {
          "base_uri": "https://localhost:8080/"
        },
        "id": "AbQaHpSNWPeB",
        "outputId": "125c3230-e9a9-464a-e314-48c55ef57241"
      },
      "source": [
        "predictions = model(x, z)\r\n",
        "print(roc_auc_score(y, predictions.detach().numpy()))"
      ],
      "execution_count": 170,
      "outputs": [
        {
          "output_type": "stream",
          "text": [
            "0.39453125\n"
          ],
          "name": "stdout"
        }
      ]
    },
    {
      "cell_type": "code",
      "metadata": {
        "id": "s9wURBJQKkXU",
        "colab": {
          "base_uri": "https://localhost:8080/",
          "height": 856
        },
        "outputId": "1f15431c-947e-4194-df90-40c9a41c0162"
      },
      "source": [
        "plt.figure(figsize=(14, 14))\r\n",
        "plt.xlabel('Номер батча')\r\n",
        "plt.ylabel('Значение функции потерь')\r\n",
        "plt.title('Процесс обучения')\r\n",
        "plt.plot(epoch_losses)"
      ],
      "execution_count": 171,
      "outputs": [
        {
          "output_type": "execute_result",
          "data": {
            "text/plain": [
              "[<matplotlib.lines.Line2D at 0x7f3ca4dda898>]"
            ]
          },
          "metadata": {
            "tags": []
          },
          "execution_count": 171
        },
        {
          "output_type": "display_data",
          "data": {
            "image/png": "[encoded data removed]",
            "text/plain": [
              "<Figure size 1008x1008 with 1 Axes>"
            ]
          },
          "metadata": {
            "tags": [],
            "needs_background": "light"
          }
        }
      ]
    },
    {
      "cell_type": "markdown",
      "metadata": {
        "id": "fH8Ep3k3hpqh"
      },
      "source": [
        "Все работает ненормально :'("
      ]
    }
  ]
}